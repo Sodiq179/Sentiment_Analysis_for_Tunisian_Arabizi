{
  "nbformat": 4,
  "nbformat_minor": 0,
  "metadata": {
    "colab": {
      "name": "AI4D iCompass Social Media Sentiment Analysis for Tunisian Arabizi.ipynb",
      "provenance": [],
      "collapsed_sections": [
        "rz5rgCWjNK0N",
        "xkG47Fj-NT3s",
        "aHUnKaNbN8VM",
        "S25b4uitQBmc",
        "Rd6J1NOOVpUs",
        "aoSe0XSi8gM1",
        "0bcguHWanbVD",
        "ahj78kG_nd5x",
        "wza9y7LTnjkE",
        "baTaz9bJoDjY",
        "aQ9KNYj6snUY"
      ]
    },
    "kernelspec": {
      "name": "python3",
      "display_name": "Python 3"
    },
    "language_info": {
      "name": "python"
    }
  },
  "cells": [
    {
      "cell_type": "markdown",
      "source": [
        "## **Libraries**"
      ],
      "metadata": {
        "id": "rz5rgCWjNK0N"
      }
    },
    {
      "cell_type": "code",
      "execution_count": 2,
      "metadata": {
        "id": "9tgE1VgqEvSL"
      },
      "outputs": [],
      "source": [
        "#Basic Libraries\n",
        "import re\n",
        "import nltk\n",
        "import string\n",
        "import numpy as np\n",
        "import pandas as pd\n",
        "import matplotlib.pyplot as plt\n",
        "\n",
        "#NLTK libraries\n",
        "from nltk.corpus import stopwords\n",
        "from nltk.stem import PorterStemmer, WordNetLemmatizer\n",
        "\n",
        "#Feature extraction process\n",
        "from sklearn.feature_extraction.text import CountVectorizer, TfidfVectorizer\n",
        "\n",
        "#Models\n",
        "from sklearn.linear_model import LogisticRegression\n",
        "from sklearn.naive_bayes import MultinomialNB\n",
        "from sklearn.ensemble import RandomForestClassifier"
      ]
    },
    {
      "cell_type": "code",
      "source": [
        "nltk.download('stopwords')\n",
        "nltk.download('punkt')"
      ],
      "metadata": {
        "colab": {
          "base_uri": "https://localhost:8080/"
        },
        "id": "giAeWAdbL7gT",
        "outputId": "7de11154-68c6-4208-a295-929f7f1d8da1"
      },
      "execution_count": 47,
      "outputs": [
        {
          "output_type": "stream",
          "name": "stdout",
          "text": [
            "[nltk_data] Downloading package stopwords to /root/nltk_data...\n",
            "[nltk_data]   Package stopwords is already up-to-date!\n",
            "[nltk_data] Downloading package punkt to /root/nltk_data...\n",
            "[nltk_data]   Unzipping tokenizers/punkt.zip.\n"
          ]
        },
        {
          "output_type": "execute_result",
          "data": {
            "text/plain": [
              "True"
            ]
          },
          "metadata": {},
          "execution_count": 47
        }
      ]
    },
    {
      "cell_type": "markdown",
      "source": [
        "## **Dataset**"
      ],
      "metadata": {
        "id": "xkG47Fj-NT3s"
      }
    },
    {
      "cell_type": "code",
      "source": [
        "train = pd.read_csv('NLP/Train.csv')\n",
        "test = pd.read_csv('NLP/Test.csv')\n",
        "SampleSubmission = pd.read_csv('NLP/SampleSubmission.csv')"
      ],
      "metadata": {
        "id": "bSIJ5TxmNWgp"
      },
      "execution_count": 4,
      "outputs": []
    },
    {
      "cell_type": "markdown",
      "source": [
        "## **Dataset Exploration**"
      ],
      "metadata": {
        "id": "aHUnKaNbN8VM"
      }
    },
    {
      "cell_type": "code",
      "source": [
        "print(f\"The shape of the Train data is : {train.shape}\")\n",
        "print(f\"The shape of the Test data is : {test.shape}\")\n",
        "print(f\"The shape of the SampleSubmission data is : {SampleSubmission.shape}\")"
      ],
      "metadata": {
        "colab": {
          "base_uri": "https://localhost:8080/"
        },
        "id": "cMtW85P9NyfD",
        "outputId": "e7d8da6f-b95e-4842-b3c9-637de11ab75a"
      },
      "execution_count": 6,
      "outputs": [
        {
          "output_type": "stream",
          "name": "stdout",
          "text": [
            "The shape of the Train data is : (70000, 3)\n",
            "The shape of the Test data is : (30000, 2)\n",
            "The shape of the SampleSubmission data is : (30000, 2)\n"
          ]
        }
      ]
    },
    {
      "cell_type": "code",
      "source": [
        "train.head(3)"
      ],
      "metadata": {
        "colab": {
          "base_uri": "https://localhost:8080/",
          "height": 0
        },
        "id": "zB-ux21-OXzq",
        "outputId": "637feae5-b46b-4060-f5ca-d1662769abe4"
      },
      "execution_count": 8,
      "outputs": [
        {
          "output_type": "execute_result",
          "data": {
            "text/plain": [
              "        ID                                               text  label\n",
              "0  13P0QT0  3sbaaaaaaaaaaaaaaaaaaaa lek ou le seim riahi o...     -1\n",
              "1  SKCLXCJ       cha3eb fey9elkoum menghir ta7ayoul ou kressi     -1\n",
              "2  V1TVXIJ  bereau degage nathef ya slim walahi ya7chiw fi...     -1"
            ],
            "text/html": [
              "\n",
              "  <div id=\"df-17f8bb85-8afa-4458-96fd-2d178f6b3ba1\">\n",
              "    <div class=\"colab-df-container\">\n",
              "      <div>\n",
              "<style scoped>\n",
              "    .dataframe tbody tr th:only-of-type {\n",
              "        vertical-align: middle;\n",
              "    }\n",
              "\n",
              "    .dataframe tbody tr th {\n",
              "        vertical-align: top;\n",
              "    }\n",
              "\n",
              "    .dataframe thead th {\n",
              "        text-align: right;\n",
              "    }\n",
              "</style>\n",
              "<table border=\"1\" class=\"dataframe\">\n",
              "  <thead>\n",
              "    <tr style=\"text-align: right;\">\n",
              "      <th></th>\n",
              "      <th>ID</th>\n",
              "      <th>text</th>\n",
              "      <th>label</th>\n",
              "    </tr>\n",
              "  </thead>\n",
              "  <tbody>\n",
              "    <tr>\n",
              "      <th>0</th>\n",
              "      <td>13P0QT0</td>\n",
              "      <td>3sbaaaaaaaaaaaaaaaaaaaa lek ou le seim riahi o...</td>\n",
              "      <td>-1</td>\n",
              "    </tr>\n",
              "    <tr>\n",
              "      <th>1</th>\n",
              "      <td>SKCLXCJ</td>\n",
              "      <td>cha3eb fey9elkoum menghir ta7ayoul ou kressi</td>\n",
              "      <td>-1</td>\n",
              "    </tr>\n",
              "    <tr>\n",
              "      <th>2</th>\n",
              "      <td>V1TVXIJ</td>\n",
              "      <td>bereau degage nathef ya slim walahi ya7chiw fi...</td>\n",
              "      <td>-1</td>\n",
              "    </tr>\n",
              "  </tbody>\n",
              "</table>\n",
              "</div>\n",
              "      <button class=\"colab-df-convert\" onclick=\"convertToInteractive('df-17f8bb85-8afa-4458-96fd-2d178f6b3ba1')\"\n",
              "              title=\"Convert this dataframe to an interactive table.\"\n",
              "              style=\"display:none;\">\n",
              "        \n",
              "  <svg xmlns=\"http://www.w3.org/2000/svg\" height=\"24px\"viewBox=\"0 0 24 24\"\n",
              "       width=\"24px\">\n",
              "    <path d=\"M0 0h24v24H0V0z\" fill=\"none\"/>\n",
              "    <path d=\"M18.56 5.44l.94 2.06.94-2.06 2.06-.94-2.06-.94-.94-2.06-.94 2.06-2.06.94zm-11 1L8.5 8.5l.94-2.06 2.06-.94-2.06-.94L8.5 2.5l-.94 2.06-2.06.94zm10 10l.94 2.06.94-2.06 2.06-.94-2.06-.94-.94-2.06-.94 2.06-2.06.94z\"/><path d=\"M17.41 7.96l-1.37-1.37c-.4-.4-.92-.59-1.43-.59-.52 0-1.04.2-1.43.59L10.3 9.45l-7.72 7.72c-.78.78-.78 2.05 0 2.83L4 21.41c.39.39.9.59 1.41.59.51 0 1.02-.2 1.41-.59l7.78-7.78 2.81-2.81c.8-.78.8-2.07 0-2.86zM5.41 20L4 18.59l7.72-7.72 1.47 1.35L5.41 20z\"/>\n",
              "  </svg>\n",
              "      </button>\n",
              "      \n",
              "  <style>\n",
              "    .colab-df-container {\n",
              "      display:flex;\n",
              "      flex-wrap:wrap;\n",
              "      gap: 12px;\n",
              "    }\n",
              "\n",
              "    .colab-df-convert {\n",
              "      background-color: #E8F0FE;\n",
              "      border: none;\n",
              "      border-radius: 50%;\n",
              "      cursor: pointer;\n",
              "      display: none;\n",
              "      fill: #1967D2;\n",
              "      height: 32px;\n",
              "      padding: 0 0 0 0;\n",
              "      width: 32px;\n",
              "    }\n",
              "\n",
              "    .colab-df-convert:hover {\n",
              "      background-color: #E2EBFA;\n",
              "      box-shadow: 0px 1px 2px rgba(60, 64, 67, 0.3), 0px 1px 3px 1px rgba(60, 64, 67, 0.15);\n",
              "      fill: #174EA6;\n",
              "    }\n",
              "\n",
              "    [theme=dark] .colab-df-convert {\n",
              "      background-color: #3B4455;\n",
              "      fill: #D2E3FC;\n",
              "    }\n",
              "\n",
              "    [theme=dark] .colab-df-convert:hover {\n",
              "      background-color: #434B5C;\n",
              "      box-shadow: 0px 1px 3px 1px rgba(0, 0, 0, 0.15);\n",
              "      filter: drop-shadow(0px 1px 2px rgba(0, 0, 0, 0.3));\n",
              "      fill: #FFFFFF;\n",
              "    }\n",
              "  </style>\n",
              "\n",
              "      <script>\n",
              "        const buttonEl =\n",
              "          document.querySelector('#df-17f8bb85-8afa-4458-96fd-2d178f6b3ba1 button.colab-df-convert');\n",
              "        buttonEl.style.display =\n",
              "          google.colab.kernel.accessAllowed ? 'block' : 'none';\n",
              "\n",
              "        async function convertToInteractive(key) {\n",
              "          const element = document.querySelector('#df-17f8bb85-8afa-4458-96fd-2d178f6b3ba1');\n",
              "          const dataTable =\n",
              "            await google.colab.kernel.invokeFunction('convertToInteractive',\n",
              "                                                     [key], {});\n",
              "          if (!dataTable) return;\n",
              "\n",
              "          const docLinkHtml = 'Like what you see? Visit the ' +\n",
              "            '<a target=\"_blank\" href=https://colab.research.google.com/notebooks/data_table.ipynb>data table notebook</a>'\n",
              "            + ' to learn more about interactive tables.';\n",
              "          element.innerHTML = '';\n",
              "          dataTable['output_type'] = 'display_data';\n",
              "          await google.colab.output.renderOutput(dataTable, element);\n",
              "          const docLink = document.createElement('div');\n",
              "          docLink.innerHTML = docLinkHtml;\n",
              "          element.appendChild(docLink);\n",
              "        }\n",
              "      </script>\n",
              "    </div>\n",
              "  </div>\n",
              "  "
            ]
          },
          "metadata": {},
          "execution_count": 8
        }
      ]
    },
    {
      "cell_type": "code",
      "source": [
        "test.head(3)"
      ],
      "metadata": {
        "colab": {
          "base_uri": "https://localhost:8080/",
          "height": 0
        },
        "id": "RFQ0wCfhOhu1",
        "outputId": "9ca6de04-3508-4bb7-c70b-9852f5ffcb00"
      },
      "execution_count": 9,
      "outputs": [
        {
          "output_type": "execute_result",
          "data": {
            "text/plain": [
              "        ID                                              text\n",
              "0  2DDHQW9  barcha aaindou fiha hak w barcha teflim kadhalik\n",
              "1  5HY6UEY                              ye gernabou ye 9a7ba\n",
              "2  ATNVUJX                    saber w barra rabbi m3ak 5ouya"
            ],
            "text/html": [
              "\n",
              "  <div id=\"df-3e759fd2-6174-4dfb-9798-6474fff411db\">\n",
              "    <div class=\"colab-df-container\">\n",
              "      <div>\n",
              "<style scoped>\n",
              "    .dataframe tbody tr th:only-of-type {\n",
              "        vertical-align: middle;\n",
              "    }\n",
              "\n",
              "    .dataframe tbody tr th {\n",
              "        vertical-align: top;\n",
              "    }\n",
              "\n",
              "    .dataframe thead th {\n",
              "        text-align: right;\n",
              "    }\n",
              "</style>\n",
              "<table border=\"1\" class=\"dataframe\">\n",
              "  <thead>\n",
              "    <tr style=\"text-align: right;\">\n",
              "      <th></th>\n",
              "      <th>ID</th>\n",
              "      <th>text</th>\n",
              "    </tr>\n",
              "  </thead>\n",
              "  <tbody>\n",
              "    <tr>\n",
              "      <th>0</th>\n",
              "      <td>2DDHQW9</td>\n",
              "      <td>barcha aaindou fiha hak w barcha teflim kadhalik</td>\n",
              "    </tr>\n",
              "    <tr>\n",
              "      <th>1</th>\n",
              "      <td>5HY6UEY</td>\n",
              "      <td>ye gernabou ye 9a7ba</td>\n",
              "    </tr>\n",
              "    <tr>\n",
              "      <th>2</th>\n",
              "      <td>ATNVUJX</td>\n",
              "      <td>saber w barra rabbi m3ak 5ouya</td>\n",
              "    </tr>\n",
              "  </tbody>\n",
              "</table>\n",
              "</div>\n",
              "      <button class=\"colab-df-convert\" onclick=\"convertToInteractive('df-3e759fd2-6174-4dfb-9798-6474fff411db')\"\n",
              "              title=\"Convert this dataframe to an interactive table.\"\n",
              "              style=\"display:none;\">\n",
              "        \n",
              "  <svg xmlns=\"http://www.w3.org/2000/svg\" height=\"24px\"viewBox=\"0 0 24 24\"\n",
              "       width=\"24px\">\n",
              "    <path d=\"M0 0h24v24H0V0z\" fill=\"none\"/>\n",
              "    <path d=\"M18.56 5.44l.94 2.06.94-2.06 2.06-.94-2.06-.94-.94-2.06-.94 2.06-2.06.94zm-11 1L8.5 8.5l.94-2.06 2.06-.94-2.06-.94L8.5 2.5l-.94 2.06-2.06.94zm10 10l.94 2.06.94-2.06 2.06-.94-2.06-.94-.94-2.06-.94 2.06-2.06.94z\"/><path d=\"M17.41 7.96l-1.37-1.37c-.4-.4-.92-.59-1.43-.59-.52 0-1.04.2-1.43.59L10.3 9.45l-7.72 7.72c-.78.78-.78 2.05 0 2.83L4 21.41c.39.39.9.59 1.41.59.51 0 1.02-.2 1.41-.59l7.78-7.78 2.81-2.81c.8-.78.8-2.07 0-2.86zM5.41 20L4 18.59l7.72-7.72 1.47 1.35L5.41 20z\"/>\n",
              "  </svg>\n",
              "      </button>\n",
              "      \n",
              "  <style>\n",
              "    .colab-df-container {\n",
              "      display:flex;\n",
              "      flex-wrap:wrap;\n",
              "      gap: 12px;\n",
              "    }\n",
              "\n",
              "    .colab-df-convert {\n",
              "      background-color: #E8F0FE;\n",
              "      border: none;\n",
              "      border-radius: 50%;\n",
              "      cursor: pointer;\n",
              "      display: none;\n",
              "      fill: #1967D2;\n",
              "      height: 32px;\n",
              "      padding: 0 0 0 0;\n",
              "      width: 32px;\n",
              "    }\n",
              "\n",
              "    .colab-df-convert:hover {\n",
              "      background-color: #E2EBFA;\n",
              "      box-shadow: 0px 1px 2px rgba(60, 64, 67, 0.3), 0px 1px 3px 1px rgba(60, 64, 67, 0.15);\n",
              "      fill: #174EA6;\n",
              "    }\n",
              "\n",
              "    [theme=dark] .colab-df-convert {\n",
              "      background-color: #3B4455;\n",
              "      fill: #D2E3FC;\n",
              "    }\n",
              "\n",
              "    [theme=dark] .colab-df-convert:hover {\n",
              "      background-color: #434B5C;\n",
              "      box-shadow: 0px 1px 3px 1px rgba(0, 0, 0, 0.15);\n",
              "      filter: drop-shadow(0px 1px 2px rgba(0, 0, 0, 0.3));\n",
              "      fill: #FFFFFF;\n",
              "    }\n",
              "  </style>\n",
              "\n",
              "      <script>\n",
              "        const buttonEl =\n",
              "          document.querySelector('#df-3e759fd2-6174-4dfb-9798-6474fff411db button.colab-df-convert');\n",
              "        buttonEl.style.display =\n",
              "          google.colab.kernel.accessAllowed ? 'block' : 'none';\n",
              "\n",
              "        async function convertToInteractive(key) {\n",
              "          const element = document.querySelector('#df-3e759fd2-6174-4dfb-9798-6474fff411db');\n",
              "          const dataTable =\n",
              "            await google.colab.kernel.invokeFunction('convertToInteractive',\n",
              "                                                     [key], {});\n",
              "          if (!dataTable) return;\n",
              "\n",
              "          const docLinkHtml = 'Like what you see? Visit the ' +\n",
              "            '<a target=\"_blank\" href=https://colab.research.google.com/notebooks/data_table.ipynb>data table notebook</a>'\n",
              "            + ' to learn more about interactive tables.';\n",
              "          element.innerHTML = '';\n",
              "          dataTable['output_type'] = 'display_data';\n",
              "          await google.colab.output.renderOutput(dataTable, element);\n",
              "          const docLink = document.createElement('div');\n",
              "          docLink.innerHTML = docLinkHtml;\n",
              "          element.appendChild(docLink);\n",
              "        }\n",
              "      </script>\n",
              "    </div>\n",
              "  </div>\n",
              "  "
            ]
          },
          "metadata": {},
          "execution_count": 9
        }
      ]
    },
    {
      "cell_type": "code",
      "source": [
        "SampleSubmission.head(3)"
      ],
      "metadata": {
        "colab": {
          "base_uri": "https://localhost:8080/",
          "height": 0
        },
        "id": "k5Tf7hLaOrWa",
        "outputId": "a05e406d-ed4b-4099-ed0d-2992f142b3be"
      },
      "execution_count": 10,
      "outputs": [
        {
          "output_type": "execute_result",
          "data": {
            "text/plain": [
              "        ID  label\n",
              "0  2DDHQW9      0\n",
              "1  5HY6UEY      0\n",
              "2  ATNVUJX      0"
            ],
            "text/html": [
              "\n",
              "  <div id=\"df-1200d27a-9246-487d-8931-bf753b6e4310\">\n",
              "    <div class=\"colab-df-container\">\n",
              "      <div>\n",
              "<style scoped>\n",
              "    .dataframe tbody tr th:only-of-type {\n",
              "        vertical-align: middle;\n",
              "    }\n",
              "\n",
              "    .dataframe tbody tr th {\n",
              "        vertical-align: top;\n",
              "    }\n",
              "\n",
              "    .dataframe thead th {\n",
              "        text-align: right;\n",
              "    }\n",
              "</style>\n",
              "<table border=\"1\" class=\"dataframe\">\n",
              "  <thead>\n",
              "    <tr style=\"text-align: right;\">\n",
              "      <th></th>\n",
              "      <th>ID</th>\n",
              "      <th>label</th>\n",
              "    </tr>\n",
              "  </thead>\n",
              "  <tbody>\n",
              "    <tr>\n",
              "      <th>0</th>\n",
              "      <td>2DDHQW9</td>\n",
              "      <td>0</td>\n",
              "    </tr>\n",
              "    <tr>\n",
              "      <th>1</th>\n",
              "      <td>5HY6UEY</td>\n",
              "      <td>0</td>\n",
              "    </tr>\n",
              "    <tr>\n",
              "      <th>2</th>\n",
              "      <td>ATNVUJX</td>\n",
              "      <td>0</td>\n",
              "    </tr>\n",
              "  </tbody>\n",
              "</table>\n",
              "</div>\n",
              "      <button class=\"colab-df-convert\" onclick=\"convertToInteractive('df-1200d27a-9246-487d-8931-bf753b6e4310')\"\n",
              "              title=\"Convert this dataframe to an interactive table.\"\n",
              "              style=\"display:none;\">\n",
              "        \n",
              "  <svg xmlns=\"http://www.w3.org/2000/svg\" height=\"24px\"viewBox=\"0 0 24 24\"\n",
              "       width=\"24px\">\n",
              "    <path d=\"M0 0h24v24H0V0z\" fill=\"none\"/>\n",
              "    <path d=\"M18.56 5.44l.94 2.06.94-2.06 2.06-.94-2.06-.94-.94-2.06-.94 2.06-2.06.94zm-11 1L8.5 8.5l.94-2.06 2.06-.94-2.06-.94L8.5 2.5l-.94 2.06-2.06.94zm10 10l.94 2.06.94-2.06 2.06-.94-2.06-.94-.94-2.06-.94 2.06-2.06.94z\"/><path d=\"M17.41 7.96l-1.37-1.37c-.4-.4-.92-.59-1.43-.59-.52 0-1.04.2-1.43.59L10.3 9.45l-7.72 7.72c-.78.78-.78 2.05 0 2.83L4 21.41c.39.39.9.59 1.41.59.51 0 1.02-.2 1.41-.59l7.78-7.78 2.81-2.81c.8-.78.8-2.07 0-2.86zM5.41 20L4 18.59l7.72-7.72 1.47 1.35L5.41 20z\"/>\n",
              "  </svg>\n",
              "      </button>\n",
              "      \n",
              "  <style>\n",
              "    .colab-df-container {\n",
              "      display:flex;\n",
              "      flex-wrap:wrap;\n",
              "      gap: 12px;\n",
              "    }\n",
              "\n",
              "    .colab-df-convert {\n",
              "      background-color: #E8F0FE;\n",
              "      border: none;\n",
              "      border-radius: 50%;\n",
              "      cursor: pointer;\n",
              "      display: none;\n",
              "      fill: #1967D2;\n",
              "      height: 32px;\n",
              "      padding: 0 0 0 0;\n",
              "      width: 32px;\n",
              "    }\n",
              "\n",
              "    .colab-df-convert:hover {\n",
              "      background-color: #E2EBFA;\n",
              "      box-shadow: 0px 1px 2px rgba(60, 64, 67, 0.3), 0px 1px 3px 1px rgba(60, 64, 67, 0.15);\n",
              "      fill: #174EA6;\n",
              "    }\n",
              "\n",
              "    [theme=dark] .colab-df-convert {\n",
              "      background-color: #3B4455;\n",
              "      fill: #D2E3FC;\n",
              "    }\n",
              "\n",
              "    [theme=dark] .colab-df-convert:hover {\n",
              "      background-color: #434B5C;\n",
              "      box-shadow: 0px 1px 3px 1px rgba(0, 0, 0, 0.15);\n",
              "      filter: drop-shadow(0px 1px 2px rgba(0, 0, 0, 0.3));\n",
              "      fill: #FFFFFF;\n",
              "    }\n",
              "  </style>\n",
              "\n",
              "      <script>\n",
              "        const buttonEl =\n",
              "          document.querySelector('#df-1200d27a-9246-487d-8931-bf753b6e4310 button.colab-df-convert');\n",
              "        buttonEl.style.display =\n",
              "          google.colab.kernel.accessAllowed ? 'block' : 'none';\n",
              "\n",
              "        async function convertToInteractive(key) {\n",
              "          const element = document.querySelector('#df-1200d27a-9246-487d-8931-bf753b6e4310');\n",
              "          const dataTable =\n",
              "            await google.colab.kernel.invokeFunction('convertToInteractive',\n",
              "                                                     [key], {});\n",
              "          if (!dataTable) return;\n",
              "\n",
              "          const docLinkHtml = 'Like what you see? Visit the ' +\n",
              "            '<a target=\"_blank\" href=https://colab.research.google.com/notebooks/data_table.ipynb>data table notebook</a>'\n",
              "            + ' to learn more about interactive tables.';\n",
              "          element.innerHTML = '';\n",
              "          dataTable['output_type'] = 'display_data';\n",
              "          await google.colab.output.renderOutput(dataTable, element);\n",
              "          const docLink = document.createElement('div');\n",
              "          docLink.innerHTML = docLinkHtml;\n",
              "          element.appendChild(docLink);\n",
              "        }\n",
              "      </script>\n",
              "    </div>\n",
              "  </div>\n",
              "  "
            ]
          },
          "metadata": {},
          "execution_count": 10
        }
      ]
    },
    {
      "cell_type": "markdown",
      "source": [
        "## **Exploratory Data Analysis**"
      ],
      "metadata": {
        "id": "S25b4uitQBmc"
      }
    },
    {
      "cell_type": "code",
      "source": [
        "train.info()"
      ],
      "metadata": {
        "colab": {
          "base_uri": "https://localhost:8080/"
        },
        "id": "mvJKNB2VQN1c",
        "outputId": "8dc84617-c924-41a6-9b91-84fbd1087a3c"
      },
      "execution_count": 21,
      "outputs": [
        {
          "output_type": "stream",
          "name": "stdout",
          "text": [
            "<class 'pandas.core.frame.DataFrame'>\n",
            "RangeIndex: 70000 entries, 0 to 69999\n",
            "Data columns (total 3 columns):\n",
            " #   Column  Non-Null Count  Dtype \n",
            "---  ------  --------------  ----- \n",
            " 0   ID      70000 non-null  object\n",
            " 1   text    70000 non-null  object\n",
            " 2   label   70000 non-null  int64 \n",
            "dtypes: int64(1), object(2)\n",
            "memory usage: 1.6+ MB\n"
          ]
        }
      ]
    },
    {
      "cell_type": "code",
      "source": [
        "train['label'].unique()"
      ],
      "metadata": {
        "colab": {
          "base_uri": "https://localhost:8080/"
        },
        "id": "0WwD-SFwOvg_",
        "outputId": "7174a22e-595c-490a-ada7-22cebd6b9371"
      },
      "execution_count": 11,
      "outputs": [
        {
          "output_type": "execute_result",
          "data": {
            "text/plain": [
              "array([-1,  1,  0])"
            ]
          },
          "metadata": {},
          "execution_count": 11
        }
      ]
    },
    {
      "cell_type": "code",
      "source": [
        "train['label'].value_counts()"
      ],
      "metadata": {
        "colab": {
          "base_uri": "https://localhost:8080/"
        },
        "id": "arPGYVmIaNdi",
        "outputId": "b30c8952-7eda-4728-ba02-fdc5ee331c2c"
      },
      "execution_count": 74,
      "outputs": [
        {
          "output_type": "execute_result",
          "data": {
            "text/plain": [
              " 1    38239\n",
              "-1    29295\n",
              " 0     2466\n",
              "Name: label, dtype: int64"
            ]
          },
          "metadata": {},
          "execution_count": 74
        }
      ]
    },
    {
      "cell_type": "code",
      "source": [
        "#Checking the dataset randomly\n",
        "train['text'][np.random.randint(0, len(train))]"
      ],
      "metadata": {
        "colab": {
          "base_uri": "https://localhost:8080/",
          "height": 0
        },
        "id": "2qdtB7AwO7Zr",
        "outputId": "9ad242fa-a79d-475d-ae2c-5040a95cd4e1"
      },
      "execution_count": 26,
      "outputs": [
        {
          "output_type": "execute_result",
          "data": {
            "text/plain": [
              "'raj3elna moudarebna sabe9 chiheb lili hadhi mtalebna tawa'"
            ],
            "application/vnd.google.colaboratory.intrinsic+json": {
              "type": "string"
            }
          },
          "metadata": {},
          "execution_count": 26
        }
      ]
    },
    {
      "cell_type": "code",
      "source": [
        "train.isnull().sum().sum(), test.isnull().sum().sum()"
      ],
      "metadata": {
        "colab": {
          "base_uri": "https://localhost:8080/"
        },
        "id": "W0K2qwY3PbEs",
        "outputId": "5186781e-008b-4d1b-de25-5240fb077957"
      },
      "execution_count": 25,
      "outputs": [
        {
          "output_type": "execute_result",
          "data": {
            "text/plain": [
              "(0, 0)"
            ]
          },
          "metadata": {},
          "execution_count": 25
        }
      ]
    },
    {
      "cell_type": "markdown",
      "source": [
        "## **Dataset Preprocessing**"
      ],
      "metadata": {
        "id": "cGWY2PV5Q6HU"
      }
    },
    {
      "cell_type": "code",
      "source": [
        "punctuations = string.punctuation"
      ],
      "metadata": {
        "id": "vEMN2JMGPx95"
      },
      "execution_count": 29,
      "outputs": []
    },
    {
      "cell_type": "markdown",
      "source": [
        "### **Bag of words**"
      ],
      "metadata": {
        "id": "Rd6J1NOOVpUs"
      }
    },
    {
      "cell_type": "code",
      "source": [
        "sentiments = [x for x in train['text'].values]"
      ],
      "metadata": {
        "id": "KXFNbs5ST-0g"
      },
      "execution_count": 354,
      "outputs": []
    },
    {
      "cell_type": "code",
      "source": [
        "stemmer = PorterStemmer()"
      ],
      "metadata": {
        "id": "Pjo7RioMEKGD"
      },
      "execution_count": 355,
      "outputs": []
    },
    {
      "cell_type": "code",
      "source": [
        "def Bag_of_words(sentiment_list):\n",
        "  Bag_of_Words = []\n",
        "  for sentiment in sentiment_list:\n",
        "    words = nltk.word_tokenize(sentiment)\n",
        "    for word in words:\n",
        "      Bag_of_Words.append(stemmer.stem(word))#Stemming the words before appending\n",
        "  return Bag_of_Words"
      ],
      "metadata": {
        "id": "wqldpHiZV98p"
      },
      "execution_count": 356,
      "outputs": []
    },
    {
      "cell_type": "code",
      "source": [
        "BagofWords = Bag_of_words(sentiments)"
      ],
      "metadata": {
        "id": "gDk3wdIHcXky"
      },
      "execution_count": 357,
      "outputs": []
    },
    {
      "cell_type": "code",
      "source": [
        "print(f\"The Bag of word has a total of {len(BagofWords)} words with {len(set(BagofWords))} unique words\")"
      ],
      "metadata": {
        "colab": {
          "base_uri": "https://localhost:8080/"
        },
        "id": "EKc8Wpw2FCwm",
        "outputId": "5fa5a2bb-c81b-4811-bc8a-1d71619709a7"
      },
      "execution_count": 358,
      "outputs": [
        {
          "output_type": "stream",
          "name": "stdout",
          "text": [
            "The Bag of word has a total of 688634 words with 138481 unique words\n"
          ]
        }
      ]
    },
    {
      "cell_type": "code",
      "source": [
        "#Selecting the unique words from the bag of words\n",
        "BagofWords = list(set(BagofWords))\n",
        "#Removing stopwords\n",
        "BagofWords = [x for x in BagofWords if x not in punctuations]"
      ],
      "metadata": {
        "id": "7brACk4IWybb"
      },
      "execution_count": 359,
      "outputs": []
    },
    {
      "cell_type": "markdown",
      "source": [
        "### **Sentiments based BOW**"
      ],
      "metadata": {
        "id": "8Em5gU35aaXG"
      }
    },
    {
      "cell_type": "code",
      "source": [
        "negative_sentiment = [sentiments for sentiments in train['text'][train['label'].eq(-1)]]\n",
        "positive_sentiment = [sentiments for sentiments in train['text'][train['label'].eq(1)]]\n",
        "neutral_sentiment = [sentiments for sentiments in train['text'][train['label'].eq(0)]]\n",
        "\n",
        "negative_BOW = Bag_of_words(negative_sentiment)\n",
        "positive_BOW = Bag_of_words(positive_sentiment)\n",
        "neutral_BOW = Bag_of_words(neutral_sentiment)"
      ],
      "metadata": {
        "id": "Qg43wsIaZLVq"
      },
      "execution_count": 361,
      "outputs": []
    },
    {
      "cell_type": "code",
      "source": [
        "#[words for words in BagofWords if words[0] == 'h']\n",
        "#hah = [words for words in BagofWords if words[0:3] in ['haa']]"
      ],
      "metadata": {
        "id": "97il52tkeCZU"
      },
      "execution_count": 242,
      "outputs": []
    },
    {
      "cell_type": "markdown",
      "source": [
        "## Trying Out some Regex"
      ],
      "metadata": {
        "id": "aoSe0XSi8gM1"
      }
    },
    {
      "cell_type": "markdown",
      "source": [
        "#### hah"
      ],
      "metadata": {
        "id": "0bcguHWanbVD"
      }
    },
    {
      "cell_type": "code",
      "source": [
        "hah = [words for words in BagofWords if words[0:3] in ['hah']]\n",
        "hah_words = ' '.join(w for w in hah)\n",
        "hah_words"
      ],
      "metadata": {
        "colab": {
          "base_uri": "https://localhost:8080/",
          "height": 0
        },
        "id": "qGQZa8L6jCsb",
        "outputId": "60541650-2f56-412e-8180-5ca3fe7f4397"
      },
      "execution_count": 186,
      "outputs": [
        {
          "output_type": "execute_result",
          "data": {
            "text/plain": [
              "'hahahahahhaahahhahahahah hahhahha hahahahahhaha hahahahhahahaha hahhhhhhhhhhhhhhhhhhhhhya hahahahahahahahah hahahahahahahahahah hahahaaaa hahahahahahaaaaaaaa hahahahhahahahhhhhhhhhaaaaahahaahahahhahahahhhahahahahahaahahahahgahaahahahaahhahahhhhhhh hahahahhhhhhhhhhhhh hahhahahahah hahahahahahah hahahaah hahahahahahaahhaha hahaah hahahahahahhaha hahhaa hahahahahah hahahahahaha hahahaha hahahahahahahah hahahhhhhh hahahahahaihohaw hahahah hahhhhhhhh hahhahahha hahom hahahahahahahaha hahhaah hahahahah hahahahhaaha haho hahahahahahahaaa hahahahahahahahahahahahahahhahaha hahahahahahahha hahhhhhhhhh hahda hahouwa hahahh hahi hahahahahahahahahahahahahahah hahahahhahah hahahahahhhh hahoma hahla hahahahahahahahahhhhhh hahahahahh hahahahahhahahahahhahahahaha hahahaaaahah hahouu hahahahahahaaaaaaaaa hahahahahahahahaha hahahhhhhhhhhhh hahahahahahaahahahaa hahahahahhah hahaaa hahah hahahahhahahahahha haha hahahahhahahah hahahahahahahahaaaaaaa hah hahahhahahha hahahahahahahahahahahahahahahahhahahahahahahahahahahahahahhahahahahahahahahahahahahahahhahahhahahahahhahahahhahahahhahahahhahahahhahahahahhahahahhahaha hahhhaah hahha hahahahha hahoou hahahahaahah hahahi hahou hahhahahahaha hahahhahaha hahahhahaa hahahahahhahahahhaha hahahahahahahahahahahahahahahahahahahahahahahahahahahahahahhahahahahahahahahahah hahhahahaahhahahh hahhhhhhh hahahahhahaha hahahahahahahahahahahhahahahaha hahahahahaah hahaaaaaaaaa hahaa hahhaha hahia hahahahaahaha hahhahaha hahahahahahaa hahahahaaaaaaaaaa hahahahahhahahha hahhahaa hahahahaha hahaahhahahahaha hahoo hahahahahha hahahahahahahahhahahhhhhh hahahahahahaha hahahahahahhahahhahahahhahhahahhahahhahahahhahhahahhahhahhahahhahhhahahahahhahahhhhahhahahaw hahahahahahahhaahahahahahahhahahahhahahahahahahahahhahahahahahhahahahahahha hahahahahahh hahhahh hahahha hahaaaaaaa hahahahahhahahahahahahahah hahahz hahahahahahahahahaha hahaha hahaaaaaaaa hahhah hahahhahhah hahawa hahhahah hahahhahahahahaahha hahahahahahaahaa'"
            ],
            "application/vnd.google.colaboratory.intrinsic+json": {
              "type": "string"
            }
          },
          "metadata": {},
          "execution_count": 186
        }
      ]
    },
    {
      "cell_type": "code",
      "source": [
        "re.sub(r'h+[a|e|h|i|o]+h*[a|e|h|i|o]*[a|e|h]*', 'haa', hah_words)"
      ],
      "metadata": {
        "colab": {
          "base_uri": "https://localhost:8080/",
          "height": 0
        },
        "id": "clvnfK9wjP1_",
        "outputId": "ebff61e6-ab89-404a-cd74-bb3f4adab21b"
      },
      "execution_count": 188,
      "outputs": [
        {
          "output_type": "execute_result",
          "data": {
            "text/plain": [
              "'haa haa haa haa haaya haa haa haa haa haagahaa haa haa haa haa haa haa haa haa haa haa haa haa haa haaw haa haa haa haam haa haa haa haa haa haa haa haa haa haada haauwa haa haa haa haa haa haama haala haa haa haa haa haauu haa haa haa haa haa haa haa haa haa haa haa haa haa haa haa haa haa haau haa haa haau haa haa haa haa haa haa haa haa haa haa haa haa haa haa haa haa haa haa haa haa haa haa haa haa haa haa haaw haa haa haa haa haa haa haaz haa haa haa haa haa haawa haa haa haa'"
            ],
            "application/vnd.google.colaboratory.intrinsic+json": {
              "type": "string"
            }
          },
          "metadata": {},
          "execution_count": 188
        }
      ]
    },
    {
      "cell_type": "code",
      "source": [
        "re.sub(r'h+a[h|a]*', 'haa', hah_words)"
      ],
      "metadata": {
        "colab": {
          "base_uri": "https://localhost:8080/",
          "height": 0
        },
        "id": "hcJFnIhu1OIP",
        "outputId": "b3a766b3-44ff-4f5c-d086-f8f1c540d111"
      },
      "execution_count": 204,
      "outputs": [
        {
          "output_type": "execute_result",
          "data": {
            "text/plain": [
              "'haa haa haa haa haaya haa haa haa haa haagahaa haa haa haa haa haa haa haa haa haa haa haa haa haa haaihohaaw haa haa haa haaom haa haa haa haa haao haa haa haa haa haada haaouwa haa haai haa haa haa haaoma haala haa haa haa haa haaouu haa haa haa haa haa haa haa haa haa haa haa haa haa haa haa haa haa haaoou haa haai haaou haa haa haa haa haa haa haa haa haa haa haa haa haa haaia haa haa haa haa haa haa haa haa haaoo haa haa haa haaw haa haa haa haa haa haa haaz haa haa haa haa haa haawa haa haa haa'"
            ],
            "application/vnd.google.colaboratory.intrinsic+json": {
              "type": "string"
            }
          },
          "metadata": {},
          "execution_count": 204
        }
      ]
    },
    {
      "cell_type": "markdown",
      "source": [
        "### hha"
      ],
      "metadata": {
        "id": "ahj78kG_nd5x"
      }
    },
    {
      "cell_type": "code",
      "source": [
        "hha = [words for words in BagofWords if words[0:3] in ['hha']]\n",
        "hha_words = ' '.join(w for w in hha)\n",
        "hha_words"
      ],
      "metadata": {
        "colab": {
          "base_uri": "https://localhost:8080/",
          "height": 0
        },
        "id": "w-76uoDRlvJ9",
        "outputId": "24435fc3-be23-4fd1-ba5b-94c567ea90bd"
      },
      "execution_count": 235,
      "outputs": [
        {
          "output_type": "execute_result",
          "data": {
            "text/plain": [
              "'hhahahhahahahhah hhahahahaha hhaha hhahahhahahahahah hhahhahahaha hhaahaaahh hhahha hhahahahahahhahahhahahahhahhhahhahahahhahahahahahhahaha hhaw hhahahhahahh'"
            ],
            "application/vnd.google.colaboratory.intrinsic+json": {
              "type": "string"
            }
          },
          "metadata": {},
          "execution_count": 235
        }
      ]
    },
    {
      "cell_type": "code",
      "source": [
        "re.sub(r'h+a[h|a]*', 'haa', hha_words)"
      ],
      "metadata": {
        "colab": {
          "base_uri": "https://localhost:8080/",
          "height": 0
        },
        "id": "KveuY7nt008V",
        "outputId": "082853d7-e0e8-49d8-ebb0-686d176437f6"
      },
      "execution_count": 236,
      "outputs": [
        {
          "output_type": "execute_result",
          "data": {
            "text/plain": [
              "'haa haa haa haa haa haa haa haa haaw haa'"
            ],
            "application/vnd.google.colaboratory.intrinsic+json": {
              "type": "string"
            }
          },
          "metadata": {},
          "execution_count": 236
        }
      ]
    },
    {
      "cell_type": "markdown",
      "source": [
        "### hhh"
      ],
      "metadata": {
        "id": "wza9y7LTnjkE"
      }
    },
    {
      "cell_type": "code",
      "source": [
        "hhh = [words for words in BagofWords if words[0:3] in ['hhh']]\n",
        "hhh_words = ' '.join(w for w in hhh)\n",
        "hhh_words"
      ],
      "metadata": {
        "colab": {
          "base_uri": "https://localhost:8080/",
          "height": 0
        },
        "id": "tEnnfivHl4RC",
        "outputId": "a188d350-4318-470e-b161-59c90709c11e"
      },
      "execution_count": 225,
      "outputs": [
        {
          "output_type": "execute_result",
          "data": {
            "text/plain": [
              "'hhhhhhhhhj hhhhhhhhhhhhhhhhhhhhhhhhhhhhhhhhhhhhhhhhhhwoooooooooooooooooooooooooooooooooooooooooooooooooooooooooooooooooh hhhhhhhhhhhhhhhhhhhhhhhhhhhhhhhhhhhhhhhhhhhhhhhhhhhhhhhhhhhhhhhhhhhhhhhhhhhhhhhhhhhhhhhhhhhhhhhhhhhhhhhhhhhhhhhhhhhhhhhhhhhhhhhhhhhhhhhhhhhhhhhhhhhhhhhhhhhhhhhhhhhhhhhhhhhhhhhhhhhhhhhhhhhhhhhhhhhhhhhhhhhhhhhhhhhhhhhhhhhhhhhhhhhhhhhhhhhhhhhhhhhhhhhhhhhhhhhhhhhhhhhhhhhhhiiiiiihihihihihiihihihihiihhoohohohohohohoohohohahahahahahahahahahahahehehehehehehehehh hhhhhhhhhvhhhhhhhh hhhhhhhhhhhhhhhhhhhhhhhhhhhhhhhhjjhh hhhhhhhhhhha hhhhhhhhhhhhhhhhhhhhhhhhhhhhhhhhhhhhhhhhhhhhhhhhh hhhhaaa9999999 hhhhhmala hhhhhhhhhhhh hhhhhhhhhhhhhhhhhhhhhhhhhhhhhhhhhhhhhhhhhhhhhhhhhhhhhhh hhhhhhhhhhhhhhhhhhhhhhhhhhhhhhh hhhha hhhhhhhhhhhhhhhhhhhhhhhhhhhhhhhhhhhhhhhhhhhhhhhhhhhhhhhhh hhhhhhmenchi5o hhhhhtaw hhhhhhhhhhhhhhh hhhhhhahhhhha hhhhhhhhhhhhhhhhhhhhhhhhhhhhhhhhhhhhhhhhhhhhhhhhhhhhhhhhhhhhhhhhhhhhhhhhhhhhhhhhhhhhhhhhhhhhhhhhhhhhhhhhhhhhhhhhhhhhhhhh hhhhhhhhhhhhhh hhhhhhhhhhhhhhhhhhhhhhhhhhhhhhhhhhhhhhhhhhhhhhhhhhhhhh hhhhhhwanta hhhhhhha hhhhhhhhhhhhhhhhhhhhhhhhhhhhhhhhhhhhhhhhhhhhhhhhhhhhhhhhhhhhhhhh hhhhhhhhhhhhhhhhhhhhhhhhhhhhhhhhhhhhhhhhhhh hhhhhhhhhh hhhhj hhhhhhkol hhhhhhhhhhhhhhhhhhhhhhhhhhhhhhhhhhhjhhhhhhhhhhhhhhhhhhhhjjhhhhhhhhhhhhhhhhhhhhhhhhhhhhhhhhhhhhhhhhhhhhhhhhhhhhhhhhhhhhhhhggghvhhhhhhhhhhhhhhhhhhhhhhhhhhhhhhhhhhhhhhhhhhhhhhhhhhhhhhhhhhhhhhhhhhhhhhhhhhhhhhhhhhhhhhhhhhhhhhhhhhhhhhhhhhhhhhhhhh hhhhhhhhhhhhhhhhhhhhhhhhhhhhhhhhhhhhhhhhhhhhhhhhhhh hhhhghghhhhhhg hhhhhhhhhhhhhhhhhhhhhhhhhhhhhhhhhhhhhhhhhhhhhhhhhhhhhhhhhhhhhhhhhhhhhhhhhhhhhhhhh hhhhhahhhhha hhhhhhhhhhhhhhhhhhhhhhhhhhh hhhhhhhhhhhhhhhest hhhhhhhhrabi hhhhhkkkjjjhhhhhhjjjjjjjjjhhjjjh hhhhhhhhhhhhhhhhhhhhhhhhhhhhhhhhhhhhhhhhhh hhhhhhhhhhhhhhhhhhhhhhhhhhhhhhhhhhhhhhhhhhhhhhhhhhhhhhhhhhhh hhhhhaaahhhhhhhhhhhhhhhh hhhhlkolhom hhhhhj hhhhhhhhhhhhhhhhhhhhhhhhhhhhhhhhhh hhhh hhhhhhhhh hhhhhhhhhhhhhhhhhhhhhhhhhhhhh hhhhhhhhhhhhhhhhhhhhhhhhhhhhhhhhhhhhhhhhhhhhhhhhhhhhhhhhhhhhhhhhhhhhhhhhhhhhhhhhhhhhhhhhhhhhhhhhhhhhhhhhhhhhhhhhhhhhhhhhhhhhhhhhhhhhhhhhhhhhhhhh hhhhhhhhsaha hhh hhhhhhh hhhhhhhhhhhaaaaaaahhhhhhhhhhhh hhhhhhhhhhhhhhhhhhhhhhhhhhhhhhhhhhhhhhhhhhhhhhhhhhhhhhhhhhhhhhhhhhhhhhhhhhhhhhhhhhhhhhhhhhhhhhhhhhhhhhhhhhhhhhhhhhhhhhhhhhhhh hhhhhhhhhhhhhhhhhhhhhhhhhhhhhhhhhhhhhhhhhhhhh hhhhhhhhhhhhhhhhhhhhhhhhhhhhhhhhhhhhhhhhhhhhhhhhhhhhhhhhhhhhhh hhhhhhghh hhhhhncahhhhhhhhhhhhhhhhhhhhhhhh hhhhhhhhhhhhhhhhhhhmala hhhhhhg hhhhhhhhhhhhhhhhhhhhhhhhhhhhhhhhhhhhhhhhhhhhhhhhhhhhhhhhhhhhhhhhhhhhhhhhhhhhhhhhhhhhhhhh hhhhhhhhhhhhhhhhhhhhhh hhhhhhhhhhhhhhhhhhhhhhhrabi hhhhhhhhhb hhhhhhhhhhhhhhhhhhhhhhhhhhhhhhhhhhhhhhhhhhhhhhhhhhhhhhhhhhhhhhhhhhhhhhhhhhhhhhhhhhhhhhhhhhhhhhhhhhhhhhhhhhhhhhhhhhhhh hhhhhhhhhhhhhhhhhhhhhhhhhhhhhhhhhhhhhhhhhhhhhhhhhhhhhhhhhhhhhhhhh hhhhhha hhhhhhhhhhhhhhhhhha9wa hhhhhhhhhhhhhhhhhhhhhhhhh hhhhhhhhhhhhhhhhhhhhhhhhhhhhhhhhhhhhhhhhhhhh hhhhhhj hhhhhhhhhhhhhhhhhohi hhhhhhhhhhhhhhhhhhhhhhhhhnh hhhhhhhhhhhhhhhhhhhhhhhhhhhhhhhhh hhhj hhhhhhhhhhhhh hhhvhv hhhhhhhhhhhhhhhhhhhhhhhhhhhhhhhhhhhhhhhhhhhhhhhhhhhh hhhjjh hhhhhhhhhhhhhhhhhhhhhhhhhhhhhhhhhhhhhhhhhhhhhhhhhhhhhhhhhhhhhhhhhhhhhhhhhhhhh hhhhhhhhhhhhhhhhhhhhhhhhhhhhhhhhhhhhhhhhhhhhhhhhhhhhhhhhhhhhhhhhhhhhhhhhhhhhhhhhhhhhhhhhhhhhhhhhhhhhhhhhhhhhhhhhhhhhhhhhhhhhhhhhhhhhhhhhhhhhhhhhhhhhhhhhhhhhhhhhhhhhhhhh hhhhhhhhhhhhhhhhhhhhhhhhhhhhhhhhhhhh hhhhhhhhhhhhhhhhhhhhhhhhhhhhhhhhhhhhhhhhh hhhhhhhhhhhhhhhhhhhhhhhhhhhhhhhhhhhhhhhhhhhhhhhhhhhhhhhhhhhhhhhhhhhhhhhhhhhhhhhhhhhhhhhhhhhhhhhhhhhhhhhhhhhhhhhhhhhhhhhhhhhhhhhh hhhhhhhhhhhhhhhhhhhhhhhhhh hhhhhhhhhhhhhhhhhhhhhhhhhhhhhhhhhhhhhhhhhhhhhhhhhhhhhhhhhhhhhhhhhhhhhhhhhhhhhhh hhhhhhhhhhhhhhhhhhhhhb hhhhhahahaha hhhhhhhjjhhhhhhhhhhhhhhhhhhhhhhhhhhhhhhhhhhhhhhh hhhnh hhhhhhhhhg hhhhhhhhhhhhhhhhhhhhhhhhhhhhhhhhhhhhhhhhhhhhhhhhhhhhhhhhhhhhhhhhhhhh hhhhhhhhhhhhhhhhhhhhhhhhhhhhhhhhhhhhhhhhhhhhhhh hhhhhhhhjhjj hhhhhhjj hhhhhhhhhnon hhhhhhhhwlhi hhhhhhhhhhhhhhhhhhhhhhhhhhhhhhhhhhhhhhhhhhhhhhhhhhhhhhhhhhhhhhhhhhhhhhhhhhhhhhhhhhhhhhhhhhhhhhhhhhhhhhhhhhhhhhhhhhhhhhhhhhhhhhhhh hhhhhhhhhhhhhhhhhhhhhhhhhhhhhhhhhhhhhhhhhhhhhhhhhhhhhhhhhhhhhhhhhhhhhhhhhhhhhhhhhhhhhhhhhhhhhhhhhhhhhhhhhh hhhhhhobbeek hhhhhhhhhhhhhhhhhhhhhhhhhhhhhhhhhhhhhhhhhhhhhhhhhhhhhhhhhhhhhhhhhhhhhhhhhhhhhhhhhhhh hhhhhhhhhhhhhhhhhhhhh hhhhhh hhhhhhhhhhhhhhhhhhhhhhhhhhhhhhhhhhhhhhhhhhhhhhhhhhhhhhhhhhhhhhhhhhhhhh hhhhhhhhhhhhhhhhhh hhhhhhhhhhhhhhhhaaaaaahhhhhhhhhhhh hhhhhhhh0 hhhhhhhhhhhhhhhhhhhhhhhhhhhhhhhhhhhhhhhhhhhhhhhhhhhhhhhhhhhhhhhhhhhhhhhhhhhhhhhhhhhhhhhhhhhhhhhhhhhhhhhhhhhhhhhhhhhhhhhhhhhhhhhhhhhhhhhhhh hhhhhhhhhhhhhhhhhhhhhhhhhhhhhh hhhhhhhhhhhhhhhhhhhhhhhhhhhh hhhhhhhhhhhhhhhhhhhhhhhhhhhhhhhhhhh hhhhhhhhhhhhhhhhhhhhhhhhhhhhhhhhhhhhhhhhhhhhhhhhhhhhhhhhhhhhhhhhhhhhhhhhhhhhhhhhhhhhhhhhhhhhhhhhhhhhhhhhhhhhhhhhhhhhhhhhhhhhhhhhhhhhhhhhhhhhhhhhhhhhhhhhhhhhhhhhhhhhhhhhhhhhhhhhhhhhhhhhhhhhhhhhhhhhhhhh hhhhhhhhhhhhhhhhhhhhhhhhhhhhhhhhhhhhhhhh hhhhhhhhhhhhhhhhhhhhhhhhhhhhhhhh hhhhh hhhhhv hhhhhhhhhhhhhhhhhhhhhhh hhhjjjj hhhena hhhhhhhhhhhsi hhhhjjh hhhhhhhhamm hhhhhhhloooooooolmdrrrrrrrrrrrrr hhhhhhhhxd hhhhhhhhhhhhhhhhhhh hhhhhjj hhhhhhhhhhhhhhhaaaaaaaa hhhhbh hhhhhhhhhhhhhhhhhhhh hhhhh3 hhhhhhhhhhhhhhhh hhhhhhhhhhhhhhhhhhhhhhhhhhhhhhhhhhhhhhhhhhhhhhhhhhhhhhhhhhhhh hhhahahahah hhhhhhhhhhhhhhhhhhhhhhhhhhhhhhhhhhhhh hhhhyhhhhhh hhhhhhhhfourat hhhhhhhhhhhhhhhhh hhhhhhhhhhhhhhhhhhhhhhhhhhhhhhhhhhhhhhhhhhhhhhhhhhhhhhhhhhhhhhhhhhhhhhhhhhhhhhhh hhhhhhhh hhhhhhhhhhhhhhhhhhhhhhhhhhhhhhhhhhhhhhh hhhhhg hhhhhhhhhhhhhhhhhhhhhhhhhhhhhhhhhhhhhhhhhhhhhhhhhhhhh hhhhhhhhhhhhhhhhhhhhhhhh hhhhhhhhhhh hhhhhhhkkkkkkkll hhhhhhhhhhhhhhhhhhhhhhhhhhhhhhhhhhhhhh'"
            ],
            "application/vnd.google.colaboratory.intrinsic+json": {
              "type": "string"
            }
          },
          "metadata": {},
          "execution_count": 225
        }
      ]
    },
    {
      "cell_type": "code",
      "source": [
        "re.sub(r'hhh+', 'hh', hhh_words)"
      ],
      "metadata": {
        "colab": {
          "base_uri": "https://localhost:8080/",
          "height": 0
        },
        "id": "mwcjXR9GlS7b",
        "outputId": "9f9d93fc-3a4b-4a6e-d38a-1f6e348dfe03"
      },
      "execution_count": 226,
      "outputs": [
        {
          "output_type": "execute_result",
          "data": {
            "text/plain": [
              "'hhj hhwoooooooooooooooooooooooooooooooooooooooooooooooooooooooooooooooooh hhiiiiiihihihihihiihihihihiihhoohohohohohohoohohohahahahahahahahahahahahehehehehehehehehh hhvhh hhjjhh hha hh hhaaa9999999 hhmala hh hh hh hha hh hhmenchi5o hhtaw hh hhahha hh hh hh hhwanta hha hh hh hh hhj hhkol hhjhhjjhhggghvhh hh hhghghhg hh hhahha hh hhest hhrabi hhkkkjjjhhjjjjjjjjjhhjjjh hh hh hhaaahh hhlkolhom hhj hh hh hh hh hh hhsaha hh hh hhaaaaaaahh hh hh hh hhghh hhncahh hhmala hhg hh hh hhrabi hhb hh hh hha hha9wa hh hh hhj hhohi hhnh hh hhj hh hhvhv hh hhjjh hh hh hh hh hh hh hh hhb hhahahaha hhjjhh hhnh hhg hh hh hhjhjj hhjj hhnon hhwlhi hh hh hhobbeek hh hh hh hh hh hhaaaaaahh hh0 hh hh hh hh hh hh hh hh hhv hh hhjjjj hhena hhsi hhjjh hhamm hhloooooooolmdrrrrrrrrrrrrr hhxd hh hhjj hhaaaaaaaa hhbh hh hh3 hh hh hhahahahah hh hhyhh hhfourat hh hh hh hh hhg hh hh hh hhkkkkkkkll hh'"
            ],
            "application/vnd.google.colaboratory.intrinsic+json": {
              "type": "string"
            }
          },
          "metadata": {},
          "execution_count": 226
        }
      ]
    },
    {
      "cell_type": "code",
      "source": [
        "re.sub(r'he+h*[h|e]*', 'heh', hhh_words)#heh"
      ],
      "metadata": {
        "colab": {
          "base_uri": "https://localhost:8080/",
          "height": 0
        },
        "id": "AxZubA3i693B",
        "outputId": "c3d8ddec-13aa-44fc-a9eb-a782ea404c37"
      },
      "execution_count": 234,
      "outputs": [
        {
          "output_type": "execute_result",
          "data": {
            "text/plain": [
              "'hhhhhhhhhj hhhhhhhhhhhhhhhhhhhhhhhhhhhhhhhhhhhhhhhhhhwoooooooooooooooooooooooooooooooooooooooooooooooooooooooooooooooooh hhhhhhhhhhhhhhhhhhhhhhhhhhhhhhhhhhhhhhhhhhhhhhhhhhhhhhhhhhhhhhhhhhhhhhhhhhhhhhhhhhhhhhhhhhhhhhhhhhhhhhhhhhhhhhhhhhhhhhhhhhhhhhhhhhhhhhhhhhhhhhhhhhhhhhhhhhhhhhhhhhhhhhhhhhhhhhhhhhhhhhhhhhhhhhhhhhhhhhhhhhhhhhhhhhhhhhhhhhhhhhhhhhhhhhhhhhhhhhhhhhhhhhhhhhhhhhhhhhhhhhhhhhhhhiiiiiihihihihihiihihihihiihhoohohohohohohoohohohahahahahahahahahahahaheh hhhhhhhhhvhhhhhhhh hhhhhhhhhhhhhhhhhhhhhhhhhhhhhhhhjjhh hhhhhhhhhhha hhhhhhhhhhhhhhhhhhhhhhhhhhhhhhhhhhhhhhhhhhhhhhhhh hhhhaaa9999999 hhhhhmala hhhhhhhhhhhh hhhhhhhhhhhhhhhhhhhhhhhhhhhhhhhhhhhhhhhhhhhhhhhhhhhhhhh hhhhhhhhhhhhhhhhhhhhhhhhhhhhhhh hhhha hhhhhhhhhhhhhhhhhhhhhhhhhhhhhhhhhhhhhhhhhhhhhhhhhhhhhhhhh hhhhhhmenchi5o hhhhhtaw hhhhhhhhhhhhhhh hhhhhhahhhhha hhhhhhhhhhhhhhhhhhhhhhhhhhhhhhhhhhhhhhhhhhhhhhhhhhhhhhhhhhhhhhhhhhhhhhhhhhhhhhhhhhhhhhhhhhhhhhhhhhhhhhhhhhhhhhhhhhhhhhhh hhhhhhhhhhhhhh hhhhhhhhhhhhhhhhhhhhhhhhhhhhhhhhhhhhhhhhhhhhhhhhhhhhhh hhhhhhwanta hhhhhhha hhhhhhhhhhhhhhhhhhhhhhhhhhhhhhhhhhhhhhhhhhhhhhhhhhhhhhhhhhhhhhhh hhhhhhhhhhhhhhhhhhhhhhhhhhhhhhhhhhhhhhhhhhh hhhhhhhhhh hhhhj hhhhhhkol hhhhhhhhhhhhhhhhhhhhhhhhhhhhhhhhhhhjhhhhhhhhhhhhhhhhhhhhjjhhhhhhhhhhhhhhhhhhhhhhhhhhhhhhhhhhhhhhhhhhhhhhhhhhhhhhhhhhhhhhhggghvhhhhhhhhhhhhhhhhhhhhhhhhhhhhhhhhhhhhhhhhhhhhhhhhhhhhhhhhhhhhhhhhhhhhhhhhhhhhhhhhhhhhhhhhhhhhhhhhhhhhhhhhhhhhhhhhhh hhhhhhhhhhhhhhhhhhhhhhhhhhhhhhhhhhhhhhhhhhhhhhhhhhh hhhhghghhhhhhg hhhhhhhhhhhhhhhhhhhhhhhhhhhhhhhhhhhhhhhhhhhhhhhhhhhhhhhhhhhhhhhhhhhhhhhhhhhhhhhhh hhhhhahhhhha hhhhhhhhhhhhhhhhhhhhhhhhhhh hhhhhhhhhhhhhhhehst hhhhhhhhrabi hhhhhkkkjjjhhhhhhjjjjjjjjjhhjjjh hhhhhhhhhhhhhhhhhhhhhhhhhhhhhhhhhhhhhhhhhh hhhhhhhhhhhhhhhhhhhhhhhhhhhhhhhhhhhhhhhhhhhhhhhhhhhhhhhhhhhh hhhhhaaahhhhhhhhhhhhhhhh hhhhlkolhom hhhhhj hhhhhhhhhhhhhhhhhhhhhhhhhhhhhhhhhh hhhh hhhhhhhhh hhhhhhhhhhhhhhhhhhhhhhhhhhhhh hhhhhhhhhhhhhhhhhhhhhhhhhhhhhhhhhhhhhhhhhhhhhhhhhhhhhhhhhhhhhhhhhhhhhhhhhhhhhhhhhhhhhhhhhhhhhhhhhhhhhhhhhhhhhhhhhhhhhhhhhhhhhhhhhhhhhhhhhhhhhhhh hhhhhhhhsaha hhh hhhhhhh hhhhhhhhhhhaaaaaaahhhhhhhhhhhh hhhhhhhhhhhhhhhhhhhhhhhhhhhhhhhhhhhhhhhhhhhhhhhhhhhhhhhhhhhhhhhhhhhhhhhhhhhhhhhhhhhhhhhhhhhhhhhhhhhhhhhhhhhhhhhhhhhhhhhhhhhhh hhhhhhhhhhhhhhhhhhhhhhhhhhhhhhhhhhhhhhhhhhhhh hhhhhhhhhhhhhhhhhhhhhhhhhhhhhhhhhhhhhhhhhhhhhhhhhhhhhhhhhhhhhh hhhhhhghh hhhhhncahhhhhhhhhhhhhhhhhhhhhhhh hhhhhhhhhhhhhhhhhhhmala hhhhhhg hhhhhhhhhhhhhhhhhhhhhhhhhhhhhhhhhhhhhhhhhhhhhhhhhhhhhhhhhhhhhhhhhhhhhhhhhhhhhhhhhhhhhhhh hhhhhhhhhhhhhhhhhhhhhh hhhhhhhhhhhhhhhhhhhhhhhrabi hhhhhhhhhb hhhhhhhhhhhhhhhhhhhhhhhhhhhhhhhhhhhhhhhhhhhhhhhhhhhhhhhhhhhhhhhhhhhhhhhhhhhhhhhhhhhhhhhhhhhhhhhhhhhhhhhhhhhhhhhhhhhhh hhhhhhhhhhhhhhhhhhhhhhhhhhhhhhhhhhhhhhhhhhhhhhhhhhhhhhhhhhhhhhhhh hhhhhha hhhhhhhhhhhhhhhhhha9wa hhhhhhhhhhhhhhhhhhhhhhhhh hhhhhhhhhhhhhhhhhhhhhhhhhhhhhhhhhhhhhhhhhhhh hhhhhhj hhhhhhhhhhhhhhhhhohi hhhhhhhhhhhhhhhhhhhhhhhhhnh hhhhhhhhhhhhhhhhhhhhhhhhhhhhhhhhh hhhj hhhhhhhhhhhhh hhhvhv hhhhhhhhhhhhhhhhhhhhhhhhhhhhhhhhhhhhhhhhhhhhhhhhhhhh hhhjjh hhhhhhhhhhhhhhhhhhhhhhhhhhhhhhhhhhhhhhhhhhhhhhhhhhhhhhhhhhhhhhhhhhhhhhhhhhhhh hhhhhhhhhhhhhhhhhhhhhhhhhhhhhhhhhhhhhhhhhhhhhhhhhhhhhhhhhhhhhhhhhhhhhhhhhhhhhhhhhhhhhhhhhhhhhhhhhhhhhhhhhhhhhhhhhhhhhhhhhhhhhhhhhhhhhhhhhhhhhhhhhhhhhhhhhhhhhhhhhhhhhhhh hhhhhhhhhhhhhhhhhhhhhhhhhhhhhhhhhhhh hhhhhhhhhhhhhhhhhhhhhhhhhhhhhhhhhhhhhhhhh hhhhhhhhhhhhhhhhhhhhhhhhhhhhhhhhhhhhhhhhhhhhhhhhhhhhhhhhhhhhhhhhhhhhhhhhhhhhhhhhhhhhhhhhhhhhhhhhhhhhhhhhhhhhhhhhhhhhhhhhhhhhhhhh hhhhhhhhhhhhhhhhhhhhhhhhhh hhhhhhhhhhhhhhhhhhhhhhhhhhhhhhhhhhhhhhhhhhhhhhhhhhhhhhhhhhhhhhhhhhhhhhhhhhhhhhh hhhhhhhhhhhhhhhhhhhhhb hhhhhahahaha hhhhhhhjjhhhhhhhhhhhhhhhhhhhhhhhhhhhhhhhhhhhhhhh hhhnh hhhhhhhhhg hhhhhhhhhhhhhhhhhhhhhhhhhhhhhhhhhhhhhhhhhhhhhhhhhhhhhhhhhhhhhhhhhhhh hhhhhhhhhhhhhhhhhhhhhhhhhhhhhhhhhhhhhhhhhhhhhhh hhhhhhhhjhjj hhhhhhjj hhhhhhhhhnon hhhhhhhhwlhi hhhhhhhhhhhhhhhhhhhhhhhhhhhhhhhhhhhhhhhhhhhhhhhhhhhhhhhhhhhhhhhhhhhhhhhhhhhhhhhhhhhhhhhhhhhhhhhhhhhhhhhhhhhhhhhhhhhhhhhhhhhhhhhhh hhhhhhhhhhhhhhhhhhhhhhhhhhhhhhhhhhhhhhhhhhhhhhhhhhhhhhhhhhhhhhhhhhhhhhhhhhhhhhhhhhhhhhhhhhhhhhhhhhhhhhhhhh hhhhhhobbeek hhhhhhhhhhhhhhhhhhhhhhhhhhhhhhhhhhhhhhhhhhhhhhhhhhhhhhhhhhhhhhhhhhhhhhhhhhhhhhhhhhhh hhhhhhhhhhhhhhhhhhhhh hhhhhh hhhhhhhhhhhhhhhhhhhhhhhhhhhhhhhhhhhhhhhhhhhhhhhhhhhhhhhhhhhhhhhhhhhhhh hhhhhhhhhhhhhhhhhh hhhhhhhhhhhhhhhhaaaaaahhhhhhhhhhhh hhhhhhhh0 hhhhhhhhhhhhhhhhhhhhhhhhhhhhhhhhhhhhhhhhhhhhhhhhhhhhhhhhhhhhhhhhhhhhhhhhhhhhhhhhhhhhhhhhhhhhhhhhhhhhhhhhhhhhhhhhhhhhhhhhhhhhhhhhhhhhhhhhhh hhhhhhhhhhhhhhhhhhhhhhhhhhhhhh hhhhhhhhhhhhhhhhhhhhhhhhhhhh hhhhhhhhhhhhhhhhhhhhhhhhhhhhhhhhhhh hhhhhhhhhhhhhhhhhhhhhhhhhhhhhhhhhhhhhhhhhhhhhhhhhhhhhhhhhhhhhhhhhhhhhhhhhhhhhhhhhhhhhhhhhhhhhhhhhhhhhhhhhhhhhhhhhhhhhhhhhhhhhhhhhhhhhhhhhhhhhhhhhhhhhhhhhhhhhhhhhhhhhhhhhhhhhhhhhhhhhhhhhhhhhhhhhhhhhhhh hhhhhhhhhhhhhhhhhhhhhhhhhhhhhhhhhhhhhhhh hhhhhhhhhhhhhhhhhhhhhhhhhhhhhhhh hhhhh hhhhhv hhhhhhhhhhhhhhhhhhhhhhh hhhjjjj hhhehna hhhhhhhhhhhsi hhhhjjh hhhhhhhhamm hhhhhhhloooooooolmdrrrrrrrrrrrrr hhhhhhhhxd hhhhhhhhhhhhhhhhhhh hhhhhjj hhhhhhhhhhhhhhhaaaaaaaa hhhhbh hhhhhhhhhhhhhhhhhhhh hhhhh3 hhhhhhhhhhhhhhhh hhhhhhhhhhhhhhhhhhhhhhhhhhhhhhhhhhhhhhhhhhhhhhhhhhhhhhhhhhhhh hhhahahahah hhhhhhhhhhhhhhhhhhhhhhhhhhhhhhhhhhhhh hhhhyhhhhhh hhhhhhhhfourat hhhhhhhhhhhhhhhhh hhhhhhhhhhhhhhhhhhhhhhhhhhhhhhhhhhhhhhhhhhhhhhhhhhhhhhhhhhhhhhhhhhhhhhhhhhhhhhhh hhhhhhhh hhhhhhhhhhhhhhhhhhhhhhhhhhhhhhhhhhhhhhh hhhhhg hhhhhhhhhhhhhhhhhhhhhhhhhhhhhhhhhhhhhhhhhhhhhhhhhhhhh hhhhhhhhhhhhhhhhhhhhhhhh hhhhhhhhhhh hhhhhhhkkkkkkkll hhhhhhhhhhhhhhhhhhhhhhhhhhhhhhhhhhhhhh'"
            ],
            "application/vnd.google.colaboratory.intrinsic+json": {
              "type": "string"
            }
          },
          "metadata": {},
          "execution_count": 234
        }
      ]
    },
    {
      "cell_type": "code",
      "source": [
        ""
      ],
      "metadata": {
        "id": "99WeBUnZ698i"
      },
      "execution_count": null,
      "outputs": []
    },
    {
      "cell_type": "markdown",
      "source": [
        "### heh"
      ],
      "metadata": {
        "id": "baTaz9bJoDjY"
      }
    },
    {
      "cell_type": "code",
      "source": [
        "heh = [words for words in BagofWords if words[0:3] in ['heh']]\n",
        "heh_words = ' '.join(w for w in heh)\n",
        "heh_words"
      ],
      "metadata": {
        "colab": {
          "base_uri": "https://localhost:8080/",
          "height": 0
        },
        "id": "4UXBx8z-oCwF",
        "outputId": "298fd0c9-426b-4888-ca1e-3f86a4efca1d"
      },
      "execution_count": 220,
      "outputs": [
        {
          "output_type": "execute_result",
          "data": {
            "text/plain": [
              "'hehdik heha hehehe hehii hehdom heheheheheh heheheheh heh hehe hehi hehdiiii hehoude hehom hehda heheehehehhehehe'"
            ],
            "application/vnd.google.colaboratory.intrinsic+json": {
              "type": "string"
            }
          },
          "metadata": {},
          "execution_count": 220
        }
      ]
    },
    {
      "cell_type": "code",
      "source": [
        "re.sub(r'he*h*[h|e]*', 'heh', heh_words)"
      ],
      "metadata": {
        "colab": {
          "base_uri": "https://localhost:8080/",
          "height": 0
        },
        "id": "B_jm5ARroC8o",
        "outputId": "fb8db788-4227-4fb8-89a9-fa629d5c5c6a"
      },
      "execution_count": 221,
      "outputs": [
        {
          "output_type": "execute_result",
          "data": {
            "text/plain": [
              "'hehdik heha heh hehii hehdom heh heh heh heh hehi hehdiiii hehoude hehom hehda heh'"
            ],
            "application/vnd.google.colaboratory.intrinsic+json": {
              "type": "string"
            }
          },
          "metadata": {},
          "execution_count": 221
        }
      ]
    },
    {
      "cell_type": "markdown",
      "source": [
        "### haa"
      ],
      "metadata": {
        "id": "aQ9KNYj6snUY"
      }
    },
    {
      "cell_type": "code",
      "source": [
        "haa = [words for words in BagofWords if words[0:3] in ['haa']]\n",
        "haa_words = ' '.join(w for w in haa)\n",
        "haa_words"
      ],
      "metadata": {
        "colab": {
          "base_uri": "https://localhost:8080/",
          "height": 0
        },
        "id": "dbEQ2Rc1smWc",
        "outputId": "a8045eba-367f-4662-862e-8aceb72ad98c"
      },
      "execution_count": 181,
      "outputs": [
        {
          "output_type": "execute_result",
          "data": {
            "text/plain": [
              "'haaw haaaaaaaaaaaaahaha haazetkomm haakaaa haal haa haakk haaka haaaaj haaaaaaahaaaaaahaaaaahaaaa haaq haand haahah haaj haaay haahhaha haazii haaah haak haaaaaaaaaaa haaaa haaha haaaaaaaaaaaaaaaaaaaaaaaaaaaaaaaaaaaaaaaaaaaaj haaaw haaaaaaaaa haaaaou haaaaaaaaaa333333 haaa haaaaaaaha haaaaaa haaad haazina haah haaas haaaaa haaahh haahhahah haaaah haaaaaaaamdoullaaaaaaaaaaaah haaahaa haaalb haahhahahhhhaahhahh haaaana haahha haaaaha haamv haaaj'"
            ],
            "application/vnd.google.colaboratory.intrinsic+json": {
              "type": "string"
            }
          },
          "metadata": {},
          "execution_count": 181
        }
      ]
    },
    {
      "cell_type": "code",
      "source": [
        "re.sub(r'he*h*[h|e]*', 'heh', haa_words)#heh"
      ],
      "metadata": {
        "colab": {
          "base_uri": "https://localhost:8080/",
          "height": 0
        },
        "id": "7v2KNXg64Z0_",
        "outputId": "18247006-5a3e-4012-d202-a1f1714e4ace"
      },
      "execution_count": 218,
      "outputs": [
        {
          "output_type": "execute_result",
          "data": {
            "text/plain": [
              "'hehaaw hehaaaaaaaaaaaaahehaheha hehaazetkomm hehaakaaa hehaal hehaa hehaakk hehaaka hehaaaaj hehaaaaaaahehaaaaaahehaaaaahehaaaa hehaaq hehaand hehaahehaheh hehaaj hehaaay hehaahehaheha hehaazii hehaaaheh hehaak hehaaaaaaaaaaa hehaaaa hehaaheha hehaaaaaaaaaaaaaaaaaaaaaaaaaaaaaaaaaaaaaaaaaaaaj hehaaaw hehaaaaaaaaa hehaaaaou hehaaaaaaaaaa333333 hehaaa hehaaaaaaaheha hehaaaaaa hehaaad hehaazina hehaaheh hehaaas hehaaaaa hehaaaheh hehaahehahehaheh hehaaaaheh hehaaaaaaaamdoullaaaaaaaaaaaaheh hehaaahehaa hehaaalb hehaahehahehahehaahehaheh hehaaaana hehaaheha hehaaaaheha hehaamv hehaaaj'"
            ],
            "application/vnd.google.colaboratory.intrinsic+json": {
              "type": "string"
            }
          },
          "metadata": {},
          "execution_count": 218
        }
      ]
    },
    {
      "cell_type": "code",
      "source": [
        "re.sub(r'hhh+', 'hh', haa_words)#hhh"
      ],
      "metadata": {
        "colab": {
          "base_uri": "https://localhost:8080/",
          "height": 0
        },
        "id": "JlRMgv9u4Z_P",
        "outputId": "35f144c6-f322-4b19-85ec-ffdee6f7012c"
      },
      "execution_count": 219,
      "outputs": [
        {
          "output_type": "execute_result",
          "data": {
            "text/plain": [
              "'haaw haaaaaaaaaaaaahaha haazetkomm haakaaa haal haa haakk haaka haaaaj haaaaaaahaaaaaahaaaaahaaaa haaq haand haahah haaj haaay haahhaha haazii haaah haak haaaaaaaaaaa haaaa haaha haaaaaaaaaaaaaaaaaaaaaaaaaaaaaaaaaaaaaaaaaaaaj haaaw haaaaaaaaa haaaaou haaaaaaaaaa333333 haaa haaaaaaaha haaaaaa haaad haazina haah haaas haaaaa haaahh haahhahah haaaah haaaaaaaamdoullaaaaaaaaaaaah haaahaa haaalb haahhahahhaahhahh haaaana haahha haaaaha haamv haaaj'"
            ],
            "application/vnd.google.colaboratory.intrinsic+json": {
              "type": "string"
            }
          },
          "metadata": {},
          "execution_count": 219
        }
      ]
    },
    {
      "cell_type": "markdown",
      "source": [
        "## Regex"
      ],
      "metadata": {
        "id": "wLWf1X8-4T9g"
      }
    },
    {
      "cell_type": "code",
      "source": [
        "def sentence_clean(sentence):\n",
        "  sentence_clean = re.sub(r'3sba+','3sba',sentence)\n",
        "  sentence_clean = re.sub(r'ha*h*\\w*j+','haj', sentence_clean) #haj\n",
        "  sentence_clean = re.sub(r'hhh*', 'hh', sentence_clean) #hhh\n",
        "  sentence_clean = re.sub(r'h+a[h|a]*', 'haa', sentence_clean) #hha haa hah\n",
        "  sentence_clean = re.sub(r'he+h*[h|e]*', 'heh', sentence_clean) #heh\n",
        "  sentence_clean = re.sub(r'bra+vo+', 'bravo', sentence_clean) #heh\n",
        "  sentence_clean = re.sub(r'caa+', 'caa', sentence_clean) #heh\n",
        "  sentence_clean = re.sub(r'cc*a+', 'ccaa', sentence_clean)\n",
        "  sentence_clean = re.sub(r'cc{1,3}', 'cc', sentence_clean)\n",
        "  sentence_clean = re.sub(r'cpr+', 'cpr', sentence_clean)\n",
        "  sentence_clean = re.sub(r'ctt*', 'ct', sentence_clean)\n",
        "  sentence_clean = re.sub(r'kkkk*', 'kkk', sentence_clean)\n",
        "  return sentence_clean"
      ],
      "metadata": {
        "id": "Rj_H9s-wlTAo"
      },
      "execution_count": 266,
      "outputs": []
    },
    {
      "cell_type": "code",
      "source": [
        "[words for words in BagofWords if words[0] == 'l']"
      ],
      "metadata": {
        "colab": {
          "base_uri": "https://localhost:8080/"
        },
        "id": "kA9CTc4T-GzH",
        "outputId": "d09becf7-acbb-4334-effa-48c52e64eb0a"
      },
      "execution_count": 386,
      "outputs": [
        {
          "output_type": "execute_result",
          "data": {
            "text/plain": [
              "['lettejamo3',\n",
              " 'lefriq',\n",
              " 'lmouchkla',\n",
              " 'lafriqu',\n",
              " 'likheir',\n",
              " 'ldandouk',\n",
              " 'luminati',\n",
              " 'l3aylat',\n",
              " 'lfadha7',\n",
              " 'li5dem',\n",
              " 'li7y',\n",
              " 'lbag',\n",
              " 'loussa55',\n",
              " 'lekthor',\n",
              " 'lemmaliha',\n",
              " 'lefrii9iii',\n",
              " 'lesgayratek',\n",
              " 'lmafr5a',\n",
              " 'lel2bad',\n",
              " 'ltoun',\n",
              " 'lbaxar',\n",
              " 'li3malto',\n",
              " \"l'espéranc\",\n",
              " 'lamdtou',\n",
              " 'lowle',\n",
              " 'lndamek',\n",
              " 'lkhawa',\n",
              " 'l7olm',\n",
              " 'lifeh',\n",
              " 'lahiyin',\n",
              " 'lighnah',\n",
              " 'lclubbbbbbbbb',\n",
              " 'lfar7a',\n",
              " 'leurop',\n",
              " 'lotf',\n",
              " 'lpro',\n",
              " 'la3éd',\n",
              " 'lkhrya',\n",
              " 'lsouria',\n",
              " 'lebya',\n",
              " 'l3onsori',\n",
              " 'lkhayr',\n",
              " 'liitaal3',\n",
              " 'lclùb',\n",
              " 'lgalya',\n",
              " 'lass3ad',\n",
              " 'lwaldin',\n",
              " 'lmoslmin',\n",
              " 'lhond',\n",
              " 'lemlabya',\n",
              " 'l2slamia',\n",
              " 'lemair',\n",
              " 'lketib',\n",
              " 'lbaji',\n",
              " 'lakab',\n",
              " 'liiiih',\n",
              " 'lfcb',\n",
              " 'l9arawen',\n",
              " 'labsha',\n",
              " 'lmochkel',\n",
              " 'lerhab',\n",
              " 'layem',\n",
              " 'lomm',\n",
              " 'lehwa',\n",
              " 'lgalbbbbbbbb',\n",
              " 'lpitrol',\n",
              " 'lokher',\n",
              " 'lgitou',\n",
              " 'l9yt',\n",
              " 'lgafsaaaa',\n",
              " 'luv',\n",
              " 'lfhom',\n",
              " 'littih',\n",
              " 'l7eeeee',\n",
              " 'lmakyaj',\n",
              " 'lekwanjia',\n",
              " 'lelli',\n",
              " 'lazemk',\n",
              " 'la3sab',\n",
              " 'l3ezz',\n",
              " 'leekin',\n",
              " 'lhase',\n",
              " 'ldfina',\n",
              " 'lhw',\n",
              " 'lamn',\n",
              " 'la3lik',\n",
              " 'lootf',\n",
              " 'liljaza',\n",
              " 'lsenk',\n",
              " 'lianakom',\n",
              " 'lemhef',\n",
              " 'l3anida',\n",
              " 'larryahi',\n",
              " 'lémfach5a',\n",
              " 'lisayd',\n",
              " 'lyaman',\n",
              " 'l5nen',\n",
              " 'l7al9a',\n",
              " 'la7mer',\n",
              " 'la3rossa',\n",
              " 'litathkiri',\n",
              " 'lanjahet',\n",
              " 'l3isawi',\n",
              " 'l3a9a',\n",
              " 'lbako',\n",
              " 'lmesmema',\n",
              " 'labaaaaaaaaaaa',\n",
              " 'lkhot',\n",
              " 'l7leybi',\n",
              " 'lelbarnaméj',\n",
              " 'lezam',\n",
              " 'laghlabeya',\n",
              " 'lklibstia',\n",
              " 'le7esa',\n",
              " 'lfreki',\n",
              " 'laikalmouk',\n",
              " 'lb9ya',\n",
              " 'lâcher',\n",
              " 'lowken',\n",
              " 'lmouldi',\n",
              " 'l3smaliya',\n",
              " 'liblaad',\n",
              " 'lfar8a',\n",
              " 'lawé7',\n",
              " 'li5ouini',\n",
              " 'lham',\n",
              " 'léssemi',\n",
              " 'lmidib',\n",
              " 'l3bed',\n",
              " 'lfri9i',\n",
              " 'lihada',\n",
              " 'lmihna',\n",
              " 'ljihawiyet',\n",
              " 'lilat',\n",
              " 'latin',\n",
              " 'ledfe3',\n",
              " 'lagem',\n",
              " 'leo9et',\n",
              " 'lazemmha',\n",
              " 'leb',\n",
              " 'lollllllllllllllllll',\n",
              " 'laset',\n",
              " 'lequipa',\n",
              " 'limaya7dth',\n",
              " 'lkdb',\n",
              " 'lbhalil',\n",
              " 'las9et',\n",
              " 'leklammm',\n",
              " 'lba9chich',\n",
              " 'lazzeem',\n",
              " 'ligu',\n",
              " 'lmleyen',\n",
              " 'loun',\n",
              " 'l3athma',\n",
              " 'lcorouna',\n",
              " 'l9wiii',\n",
              " 'l7ad',\n",
              " 'lérragel',\n",
              " 'lafikomm',\n",
              " 'lkedhb',\n",
              " 'lawil',\n",
              " 'labyeth',\n",
              " 'le5miss',\n",
              " 'lini5abet',\n",
              " 'lewalin',\n",
              " 'ldar',\n",
              " 'lkhb',\n",
              " 'lbakh',\n",
              " 'looooooooooooooooooooool',\n",
              " 'le3thim',\n",
              " 'le8na',\n",
              " 'lézimkom',\n",
              " 'le1',\n",
              " 'lotyf',\n",
              " 'lé3béd',\n",
              " 'lmo7sinin',\n",
              " 'lam',\n",
              " 'limassi5',\n",
              " 'lessa7afa',\n",
              " 'lmoilhi',\n",
              " 'l3abt',\n",
              " 'lilkayr',\n",
              " 'lfdhay7',\n",
              " 'las3',\n",
              " 'lat7ib',\n",
              " 'logigu',\n",
              " 'lia',\n",
              " 'lasyadek',\n",
              " 'lentreneur',\n",
              " 'lillèhi',\n",
              " 'lkato',\n",
              " 'lezm',\n",
              " 'l7ooob',\n",
              " 'lmbazza3',\n",
              " 'lbit',\n",
              " 'lft',\n",
              " 'lèhin',\n",
              " 'lmoubach',\n",
              " 'l7enoucha',\n",
              " 'lmaroc',\n",
              " 'lyasmin',\n",
              " 'laad',\n",
              " 'lel7okm',\n",
              " 'lifri9i',\n",
              " 'labestha',\n",
              " 'lib3adhkom',\n",
              " 'lintikhabet',\n",
              " 'lvisé',\n",
              " 'linahadha',\n",
              " 'lensehom',\n",
              " 'lamannnnnnnn',\n",
              " 'lestebdedd',\n",
              " 'lmjannen',\n",
              " 'lejjam3iya',\n",
              " 'la3dad',\n",
              " 'lpuub',\n",
              " 'lmarka',\n",
              " 'l3asséma',\n",
              " 'lbnit',\n",
              " 'llwada3',\n",
              " 'lamgharba',\n",
              " 'lakhast',\n",
              " 'lmedina',\n",
              " 'laychedna',\n",
              " 'lisba7',\n",
              " 'lelhèwya',\n",
              " 'lasswat',\n",
              " 'lazber',\n",
              " 'lazémmna',\n",
              " 'l3alamia',\n",
              " 'lkaymett',\n",
              " 'lidarra',\n",
              " 'lamit',\n",
              " 'lifriqi',\n",
              " 'lelbl',\n",
              " 'l3almi',\n",
              " 'laik',\n",
              " 'lilmaktib',\n",
              " 'lmarateb',\n",
              " 'lo7thob',\n",
              " 'lmraribiy',\n",
              " 'lseskom',\n",
              " 'lbere7',\n",
              " 'lgesmi',\n",
              " 'lahab',\n",
              " 'lghena',\n",
              " 'lalmodarrab',\n",
              " 'lmachta',\n",
              " 'liktib',\n",
              " 'lehjetha',\n",
              " 'lmathal',\n",
              " 'lfar5',\n",
              " 'lmesslmin',\n",
              " 'labyedh',\n",
              " 'lahasss',\n",
              " 'ladress',\n",
              " 'lough',\n",
              " 'lorigin',\n",
              " 'lfoo9',\n",
              " 'lkalbaa',\n",
              " 'la3mel',\n",
              " 'lyby',\n",
              " 'laungu',\n",
              " 'lwoum',\n",
              " 'l7kouma',\n",
              " 'lebledddd',\n",
              " 'lmme',\n",
              " 'l3omar',\n",
              " 'l7akem',\n",
              " 'li',\n",
              " 'lewjouh',\n",
              " 'lkilmaa',\n",
              " 'llehkouma',\n",
              " 'louweh',\n",
              " 'l9yaaa',\n",
              " 'lkif',\n",
              " 'lek',\n",
              " 'leklèèèb',\n",
              " 'lnawfel',\n",
              " 'lmsara',\n",
              " 'l9adheya',\n",
              " 'lelclubistiya',\n",
              " 'lezmha',\n",
              " 'lajmi',\n",
              " 'lmayestahelch',\n",
              " 'lelaswaç',\n",
              " 'la5',\n",
              " 'lkolem',\n",
              " 'lmimat',\n",
              " 'lkhlifi',\n",
              " 'lakom',\n",
              " 'lokrin',\n",
              " 'lifini',\n",
              " 'l3abna',\n",
              " 'layka',\n",
              " 'lvirag',\n",
              " 'lboutoula',\n",
              " 'lmas5a',\n",
              " 'l7a9nchalah',\n",
              " 'lasta',\n",
              " 'lelmoussad',\n",
              " 'liwl',\n",
              " 'look',\n",
              " 'li9atlett',\n",
              " 'lbhiim',\n",
              " 'lilijtih',\n",
              " 'l7ay',\n",
              " 'lekwaziii',\n",
              " 'lil5ir',\n",
              " 'lokbarat',\n",
              " 'l7ezik',\n",
              " 'l7iss',\n",
              " 'leswisra',\n",
              " 'lejma3et',\n",
              " 'lekhwanjia',\n",
              " 'l9lam',\n",
              " 'lmatloub',\n",
              " 'lmou3a9in',\n",
              " 'lanou',\n",
              " 'llnajhin',\n",
              " 'lmeddeb',\n",
              " 'lahh7assa',\n",
              " 'la7kayét',\n",
              " 'laltrmof',\n",
              " 'lareth',\n",
              " 'latunisi',\n",
              " 'leltoil',\n",
              " 'lametkom',\n",
              " 'lekeboul',\n",
              " 'la3mal',\n",
              " 'li3bad',\n",
              " 'lenett',\n",
              " 'latrhmou',\n",
              " 'lgfsa',\n",
              " 'la7dheth',\n",
              " 'lebesha',\n",
              " 'l3wj',\n",
              " 'lemwebna',\n",
              " 'lelhokouma',\n",
              " 'lessanak',\n",
              " 'lamwihbi',\n",
              " 'lahhhasa',\n",
              " 'limasekh',\n",
              " 'lpub',\n",
              " 'limbi',\n",
              " 'lchokir',\n",
              " 'lybyaaa',\n",
              " 'lmarzou9i',\n",
              " 'lrou7ou',\n",
              " 'lbrnamaj',\n",
              " 'laguém',\n",
              " 'lu',\n",
              " 'lilasetdha',\n",
              " 'litaikdhom',\n",
              " 'litahtim',\n",
              " 'l8onay',\n",
              " 'lo5riin',\n",
              " 'ltchouf',\n",
              " 'lbnya',\n",
              " 'lbnazartia',\n",
              " 'lbounia',\n",
              " 'lwejeb',\n",
              " 'lebenazaretia',\n",
              " 'lirgi3i',\n",
              " 'l8rama',\n",
              " 'lwahmiya',\n",
              " 'lenhom',\n",
              " 'le7key',\n",
              " 'l5mi',\n",
              " 'l9itt',\n",
              " 'luiz',\n",
              " 'letrab7ek',\n",
              " 'lmaryouul',\n",
              " 'libyà',\n",
              " 'lokhryn',\n",
              " 'leb5or',\n",
              " 'lhamèmi',\n",
              " 'léquipét',\n",
              " 'lbe9i',\n",
              " 'lwa3i',\n",
              " 'lefrii9i',\n",
              " 'lclip',\n",
              " 'lautotun',\n",
              " 'l3sma',\n",
              " 'loukèn',\n",
              " 'linterieur',\n",
              " 'lelmou2assassa',\n",
              " 'lmosslimin',\n",
              " 'laysso',\n",
              " 'lekhlifi',\n",
              " 'lughyt',\n",
              " 'lihoudi',\n",
              " 'lenterpol',\n",
              " 'lmerzi',\n",
              " 'lbabak',\n",
              " 'lbarah',\n",
              " 'l10',\n",
              " 'lkapoooooooooooooo',\n",
              " 'la7bala',\n",
              " 'lmou5arbin',\n",
              " 'lwahiid',\n",
              " 'lt9adem',\n",
              " 'lokla',\n",
              " 'lvl',\n",
              " 'lila3mel',\n",
              " 'layla',\n",
              " 'lhbib',\n",
              " 'looooooooser',\n",
              " 'lha7asrt',\n",
              " 'looooll',\n",
              " 'lebss',\n",
              " 'lah',\n",
              " 'lmnaykin',\n",
              " 'lo5in',\n",
              " 'lkaz',\n",
              " 'latbareklek',\n",
              " 'labso',\n",
              " 'likelam',\n",
              " 'l3amlya',\n",
              " 'le7tiraf',\n",
              " 'l3bd',\n",
              " 'lifss',\n",
              " 'lmeriadair',\n",
              " 'lelahi',\n",
              " 'lkawada',\n",
              " 'lardh',\n",
              " 'lklm',\n",
              " 'làguém',\n",
              " 'lilli',\n",
              " 'l3trouss',\n",
              " 'lclubetya',\n",
              " 'lmassakh',\n",
              " 'lidatik',\n",
              " 'lkreyek',\n",
              " 'leres',\n",
              " 'lmahboul',\n",
              " 'libe3eth',\n",
              " 'lhatha',\n",
              " 'lfoot',\n",
              " 'lbhii',\n",
              " 'lbdaan',\n",
              " 'lgadgédhi',\n",
              " 'lh9a',\n",
              " 'labl',\n",
              " 'litoshreb',\n",
              " 'lgadefi',\n",
              " 'leili',\n",
              " 'laltramof',\n",
              " 'loutfi',\n",
              " 'lou5rin',\n",
              " 'lmarhla',\n",
              " 'lira',\n",
              " 'llabad',\n",
              " 'loooooooooooooooooooooool',\n",
              " 'lebhim',\n",
              " 'lkorh',\n",
              " 'limarik',\n",
              " 'latar7im',\n",
              " \"l'el\",\n",
              " 'l9adhiyya',\n",
              " 'lekrasiii',\n",
              " 'libled',\n",
              " 'lghirna',\n",
              " 'lahfa',\n",
              " 'la7mek',\n",
              " 'leb3adhkumm',\n",
              " 'la7ess',\n",
              " 'lbya',\n",
              " 'lsonia',\n",
              " 'li9loulek',\n",
              " 'latraba7ha',\n",
              " 'louel',\n",
              " 'lklma',\n",
              " 'lézmek',\n",
              " 'lbla',\n",
              " 'lemraaaaaaaaaaaaaaaaaaaaaaaaaaaaaaaaaaaaaaaaaaaaaaaaaaaaaaaaaaaaaaaaaaaaaaaaaaaaaaaaaaaaaaaaaaaaaaaaaaaaaaaaaaaaaaaaaaaaaaaaaaaa',\n",
              " 'lelmouwejehett',\n",
              " 'l7abe',\n",
              " 'lerma',\n",
              " 'labrzil',\n",
              " 'lsidek',\n",
              " 'lfawdh',\n",
              " 'lhag',\n",
              " 'lberou',\n",
              " 'loumek',\n",
              " 'lahma9',\n",
              " 'la9dim',\n",
              " 'lounkm',\n",
              " 'lifrqui',\n",
              " 'lediyar',\n",
              " 'lawkan',\n",
              " 'loot',\n",
              " 'lhall',\n",
              " 'loujayna',\n",
              " 'lazémnna',\n",
              " 'labaaaaaaaaaaaaaaaaiss',\n",
              " 'lel3ada',\n",
              " 'lmet7arech',\n",
              " 'llili',\n",
              " 'lbouslimi',\n",
              " 'lntarai',\n",
              " 'lke',\n",
              " 'l9isa',\n",
              " 'letti7ad',\n",
              " 'lahlal',\n",
              " 'likoum',\n",
              " 'lel7adhidh',\n",
              " 'lansade9',\n",
              " 'l9ad',\n",
              " 'le9ton',\n",
              " 'latrabe7k',\n",
              " 'lalfar7a',\n",
              " 'l7ouma',\n",
              " 'le2ileha',\n",
              " 'lesslem',\n",
              " 'lbenzartia',\n",
              " 'li3adeta',\n",
              " 'limwabna',\n",
              " 'li9wi',\n",
              " 'lil2assaf',\n",
              " 'l7osd',\n",
              " 'l5arijia',\n",
              " 'louma',\n",
              " 'lfouk',\n",
              " 'lwach',\n",
              " 'looooill',\n",
              " 'l7kiya',\n",
              " 'lemmassakh',\n",
              " 'li55irr',\n",
              " 'lstad',\n",
              " 'lbakaya',\n",
              " 'letenthi',\n",
              " 'lawléd',\n",
              " 'lentikabett',\n",
              " 'l3arabeya',\n",
              " 'lenkilebet',\n",
              " 'leliri',\n",
              " 'lgat',\n",
              " 'l7laybi',\n",
              " 'ldowal',\n",
              " 'loulad',\n",
              " 'lagbina',\n",
              " 'li8dhabet',\n",
              " 'lanadhirouh',\n",
              " 'lfri9',\n",
              " 'lim3aya',\n",
              " 'lè',\n",
              " 'lma3mel',\n",
              " 'lmakki',\n",
              " 'l8oul',\n",
              " 'ladin',\n",
              " 'limanajmch',\n",
              " 'lezouz',\n",
              " 'ltaief',\n",
              " 'lelbeji',\n",
              " 'lre2asèt',\n",
              " 'lém3allém',\n",
              " 'lebhiiiiiiim',\n",
              " 'lâche',\n",
              " 'lrouhik',\n",
              " 'l9awouha',\n",
              " 'lichtimahiya',\n",
              " 'lebled',\n",
              " 'lklam',\n",
              " 'lelehi',\n",
              " 'lilwa3iy',\n",
              " 'lfa5er',\n",
              " 'lise2lik',\n",
              " 'lekifak',\n",
              " 'lbn',\n",
              " 'lazmiou',\n",
              " 'lefri9iii',\n",
              " 'le5rin',\n",
              " 'll9tatess',\n",
              " 'la9i',\n",
              " 'lnti5abit',\n",
              " 'léghriiib',\n",
              " 'libhim',\n",
              " 'lifthaya7',\n",
              " 'lacrim',\n",
              " 'laguya',\n",
              " 'lafhemtha',\n",
              " 'l9souriii',\n",
              " 'lde5l',\n",
              " 'le9ya',\n",
              " 'linti9alya',\n",
              " 'lbouma',\n",
              " 'lwleed',\n",
              " 'le7keya',\n",
              " 'le3sel',\n",
              " 'la7soula',\n",
              " 'llnihaya',\n",
              " 'lisrail',\n",
              " 'lclube',\n",
              " 'lmal9out',\n",
              " 'le3l3m',\n",
              " 'lmo9adma',\n",
              " 'lab',\n",
              " 'lil3akouch',\n",
              " 'lfer9i',\n",
              " 'lala',\n",
              " 'lpage',\n",
              " 'lkoulna',\n",
              " 'ljam3iyet',\n",
              " 'l7oreya',\n",
              " 'li5dmo',\n",
              " 'linbara',\n",
              " 'lmajliss',\n",
              " 'l9rya',\n",
              " 'lefi9i',\n",
              " 'lebstek',\n",
              " 'leljamhyir',\n",
              " 'lafaa',\n",
              " 'lemthelo',\n",
              " 'lktb',\n",
              " 'lbountou',\n",
              " 'l8areb',\n",
              " 'lahbal',\n",
              " 'libiiiiiii',\n",
              " 'lghayr',\n",
              " 'lov',\n",
              " 'larou7',\n",
              " 'lalh',\n",
              " 'lyoummmmmmmmm',\n",
              " 'le79i9a',\n",
              " \"l'argent\",\n",
              " 'lbass',\n",
              " 'lekhr',\n",
              " 'la3malna',\n",
              " 'ljim',\n",
              " 'l8irna',\n",
              " 'lelfara3',\n",
              " 'liberti',\n",
              " 'lfa9ir',\n",
              " 'lamsa',\n",
              " 'laken',\n",
              " 'lward',\n",
              " 'lhbéle',\n",
              " 'loken',\n",
              " 'laben',\n",
              " 'la7bth',\n",
              " 'l9alo',\n",
              " 'lksouri',\n",
              " 'lmonathlin',\n",
              " 'laenta',\n",
              " 'lekbir',\n",
              " 'lirwe7kom',\n",
              " 'lahda',\n",
              " 'leblléd',\n",
              " 'lédhabdhabét',\n",
              " 'ladaina',\n",
              " 'lkeelmaa',\n",
              " 'lunettt',\n",
              " 'lkhirr',\n",
              " 'litkayf',\n",
              " 'latra7',\n",
              " 'latrech',\n",
              " 'lefrik',\n",
              " 'lwakt',\n",
              " 'lfaseda',\n",
              " 'lglag',\n",
              " 'l3lamiya',\n",
              " 'lbotolt',\n",
              " 'lebleda',\n",
              " 'lasla33',\n",
              " 'lkrouz',\n",
              " 'lousa5',\n",
              " 'li3wir',\n",
              " 'lerwe7na',\n",
              " 'lefrugu',\n",
              " 'l3alem',\n",
              " 'letarachi',\n",
              " 'lesolt',\n",
              " 'lehilk',\n",
              " 'leklb',\n",
              " 'la3la8irek',\n",
              " 'lisar',\n",
              " 'lkarwi',\n",
              " 'lvedio',\n",
              " 'lradet',\n",
              " 'laylaten',\n",
              " 'lelghanouchi',\n",
              " 'lgwira',\n",
              " 'litwansa',\n",
              " 'lmission',\n",
              " 'lanim',\n",
              " 'laddarja',\n",
              " 'lotef',\n",
              " 'lmarsa',\n",
              " 'l5onar',\n",
              " 'l7oss',\n",
              " 'le7mel',\n",
              " 'lmusiic',\n",
              " 'lamjedha',\n",
              " 'lmo7amia',\n",
              " 'lmakiag',\n",
              " 'lintidabet',\n",
              " 'leksara',\n",
              " 'lamset',\n",
              " 'lenahda',\n",
              " 'laywasl',\n",
              " 'lsidik',\n",
              " 'lmosrara',\n",
              " 'laissez',\n",
              " 'lcss',\n",
              " 'letrivizeur',\n",
              " 'lule',\n",
              " 'l3abdi',\n",
              " 'laaa',\n",
              " 'lmndhoumt',\n",
              " 'lek3alfaa',\n",
              " 'lwalidin',\n",
              " 'laweledddd',\n",
              " 'lebé',\n",
              " 'labesss',\n",
              " 'l5arya',\n",
              " 'lienti',\n",
              " 'lilbarnemj',\n",
              " 'ligayrilahi',\n",
              " 'lefthaye7',\n",
              " 'louleedd',\n",
              " 'linnahdha',\n",
              " 'lablad',\n",
              " 'leeefrey9i',\n",
              " 'ltune',\n",
              " 'loulanin',\n",
              " 'liche5',\n",
              " 'llensan',\n",
              " 'la7zeeb',\n",
              " 'luck',\n",
              " 'lbouh',\n",
              " 'louwel',\n",
              " 'lkalb',\n",
              " 'libtalla',\n",
              " 'leklamet',\n",
              " 'la77esa',\n",
              " 'lcontrat',\n",
              " 'lktheb',\n",
              " 'lilaba',\n",
              " 'lel9raya',\n",
              " 'lklèb',\n",
              " 'likol',\n",
              " 'loll',\n",
              " 'lmentalité',\n",
              " 'lyrj3k',\n",
              " 'liwe7da',\n",
              " 'lien',\n",
              " 'laytama',\n",
              " 'lsliem',\n",
              " 'l4oineya',\n",
              " 'l7oriya',\n",
              " 'lmaset',\n",
              " 'lkara',\n",
              " 'lmou3ardha',\n",
              " 'la9yaaa',\n",
              " 'lbébé',\n",
              " 'limem',\n",
              " 'lfroo5',\n",
              " 'lfou9',\n",
              " 'lekhrr',\n",
              " 'lefri9',\n",
              " 'lmra',\n",
              " 'loo',\n",
              " 'l3edyen',\n",
              " 'lsamir',\n",
              " 'layl',\n",
              " 'la9tet',\n",
              " 'lekeni',\n",
              " 'lebledhom',\n",
              " 'lakleb',\n",
              " 'lbakouuu',\n",
              " 'lali',\n",
              " 'la3nat',\n",
              " 'l8alyaa',\n",
              " 'léééé',\n",
              " 'lbotola',\n",
              " 'lanniooc',\n",
              " 'lentidebet',\n",
              " 'lkelam',\n",
              " 'lifri9',\n",
              " 'laanatolahi',\n",
              " 'la97aaaaaaaaaaaaaaaaaaaaaaaaaaaaaaaaaaaaaaaaaaaaaaaaaaab',\n",
              " 'l3iffa',\n",
              " 'laysit',\n",
              " 'lilh',\n",
              " 'lammitt',\n",
              " 'lkooolll',\n",
              " 'lfokatai',\n",
              " 'lémfachhhkkkkaaaaaa',\n",
              " 'lwcoud',\n",
              " 'lebrahmi',\n",
              " 'la3ahd',\n",
              " 'l3achra',\n",
              " 'lkraya',\n",
              " 'lakadarllah',\n",
              " 'lmajariha',\n",
              " 'lfelssa',\n",
              " 'lought',\n",
              " 'lma3endouch',\n",
              " 'labtal',\n",
              " 'larbitrouwett',\n",
              " 'lén',\n",
              " 'lèhom',\n",
              " 'ltri9',\n",
              " 'lebestik',\n",
              " 'lbaghdadi',\n",
              " 'lfougira',\n",
              " 'l3elmi',\n",
              " 'lkhatab',\n",
              " 'lio5ra',\n",
              " 'lwh',\n",
              " 'leb3adhkomm',\n",
              " 'libéré',\n",
              " 'lemoment',\n",
              " 'lerheb',\n",
              " 'laswem',\n",
              " 'ltrack',\n",
              " 'lasim',\n",
              " 'laysat',\n",
              " 'lmraa',\n",
              " 'lmous3da',\n",
              " 'lelparc',\n",
              " 'likbayr',\n",
              " 'leef',\n",
              " 'l4ani',\n",
              " 'lenti5abi',\n",
              " 'lbar',\n",
              " 'lvedeo',\n",
              " 'litalia',\n",
              " 'lkolhim',\n",
              " 'lwld',\n",
              " 'lfachel',\n",
              " 'lha9ai9',\n",
              " 'lahaa',\n",
              " 'lilclub',\n",
              " 'lclubsiteya',\n",
              " 'lelclub',\n",
              " 'lklém',\n",
              " 'libyaaa',\n",
              " 'limjarma',\n",
              " 'l9anetk',\n",
              " 'lassw',\n",
              " 'l3arrr',\n",
              " 'laafriqu',\n",
              " 'laiqu',\n",
              " 'laljeri',\n",
              " 'liannou',\n",
              " 'lgass',\n",
              " 'llélah',\n",
              " 'l3aybiya',\n",
              " 'layfay9o',\n",
              " 'lékbar',\n",
              " 'la3arb',\n",
              " 'l9awek',\n",
              " 'letrein',\n",
              " 'lan7eb',\n",
              " 'l3ayech',\n",
              " 'lbnet',\n",
              " 'lilhadika',\n",
              " 'lahom',\n",
              " 'lase3',\n",
              " 'laftet',\n",
              " 'lemimoun',\n",
              " 'lforzit',\n",
              " 'liklab',\n",
              " 'le9yama',\n",
              " 'lahrisa',\n",
              " 'liiiiiiiiiiiiikkom',\n",
              " 'lzineb',\n",
              " 'leswa7lya',\n",
              " 'lkolchofna',\n",
              " 'lambouba',\n",
              " 'lmoshkel',\n",
              " 'lbendir',\n",
              " 'lendemain',\n",
              " 'linti5abet',\n",
              " 'lwaah',\n",
              " 'li97ab',\n",
              " 'loughetna',\n",
              " 'lawajet',\n",
              " 'le7kya',\n",
              " 'la8ney',\n",
              " 'lwefi',\n",
              " 'lhichri',\n",
              " 'l2a8la',\n",
              " 'lenaf',\n",
              " 'looooooooooooov',\n",
              " 'la7kem',\n",
              " 'lasil',\n",
              " 'lmouhm',\n",
              " 'lirouek',\n",
              " 'la3ibna',\n",
              " 'le9loub',\n",
              " 'li7kayat',\n",
              " 'la7zeb',\n",
              " 'l7ak',\n",
              " 'leyd',\n",
              " 'lennadi',\n",
              " 'laasad',\n",
              " 'la3betha',\n",
              " 'labac',\n",
              " 'leftia',\n",
              " 'lesab',\n",
              " 'lfey',\n",
              " 'lbakou',\n",
              " 'l7a9ira',\n",
              " 'lil3wina',\n",
              " 'louk',\n",
              " 'lmnayka',\n",
              " 'lélah',\n",
              " 'lweld',\n",
              " 'labriya2',\n",
              " 'lahzeb',\n",
              " 'llkroma',\n",
              " 'lbledna',\n",
              " 'lekrasi',\n",
              " 'leblet',\n",
              " 'li9a2',\n",
              " 'latrabba7hom',\n",
              " 'likon',\n",
              " 'la7laybi',\n",
              " 'lmgalba',\n",
              " 'lmochkol',\n",
              " 'ltaou',\n",
              " 'lem5ay',\n",
              " 'le5missa',\n",
              " 'lghalii',\n",
              " 'ltali',\n",
              " 'lebiss',\n",
              " 'lkawl',\n",
              " 'liban',\n",
              " 'lasaddeknek',\n",
              " 'lakarib',\n",
              " 'lewledek',\n",
              " 'l4neeya',\n",
              " 'ldahdeh',\n",
              " 'lentikhabia',\n",
              " 'looooooooooooool',\n",
              " 'legha',\n",
              " 'llkef',\n",
              " 'limaniin',\n",
              " 'loopv',\n",
              " 'lwafi',\n",
              " 'lfsed',\n",
              " 'lmodarib',\n",
              " 'l7amd',\n",
              " 'lbune',\n",
              " 'lguirik',\n",
              " 'lahethet',\n",
              " 'lematha',\n",
              " 'liss',\n",
              " 'la3mar',\n",
              " 'lodimat',\n",
              " 'lazouj',\n",
              " 'laysa',\n",
              " 'liriassia',\n",
              " 'lula',\n",
              " 'lerraiss',\n",
              " 'lb3adhna',\n",
              " 'lobnen',\n",
              " 'lteef',\n",
              " 'llblad',\n",
              " 'ltbrklk',\n",
              " 'libiyya',\n",
              " 'letrebeh',\n",
              " 'l9aou',\n",
              " 'lmonafi9in',\n",
              " 'l9ana',\n",
              " 'lada5elet',\n",
              " 'lamthel',\n",
              " 'la7en',\n",
              " 'lgwabssia',\n",
              " 'largentin',\n",
              " 'l7out',\n",
              " 'lhiss',\n",
              " 'latsle7',\n",
              " 'lilmo2tamar',\n",
              " 'lawlayd',\n",
              " 'leh9ii9a',\n",
              " 'likbar',\n",
              " 'llikhab',\n",
              " 'lbazda',\n",
              " 'lerjal',\n",
              " 'l5ou',\n",
              " 'likount',\n",
              " 'l5raj',\n",
              " 'la3chia',\n",
              " 'lmarahedhi',\n",
              " 'listeaamar',\n",
              " 'lwatani',\n",
              " 'l5ata2',\n",
              " 'latrah',\n",
              " 'lyid',\n",
              " 'lblad',\n",
              " 'lcha3',\n",
              " 'leness',\n",
              " 'litestahel',\n",
              " 'la7jtna',\n",
              " 'l3mor',\n",
              " 'lwasat',\n",
              " ...]"
            ]
          },
          "metadata": {},
          "execution_count": 386
        }
      ]
    },
    {
      "cell_type": "code",
      "source": [
        "caa = ' '.join(words for words in BagofWords if words[0:2] == 'ct')"
      ],
      "metadata": {
        "id": "5sImJehmAv_q"
      },
      "execution_count": 366,
      "outputs": []
    },
    {
      "cell_type": "code",
      "source": [
        "re.sub(r'ctt*', 'ct', caa)"
      ],
      "metadata": {
        "colab": {
          "base_uri": "https://localhost:8080/",
          "height": 35
        },
        "id": "cDC393MH-8V8",
        "outputId": "75a77196-0b8d-4fba-ba5c-af99e790f4c9"
      },
      "execution_count": 368,
      "outputs": [
        {
          "output_type": "execute_result",
          "data": {
            "text/plain": [
              "'ct cton ct ct ctn ctair'"
            ],
            "application/vnd.google.colaboratory.intrinsic+json": {
              "type": "string"
            }
          },
          "metadata": {},
          "execution_count": 368
        }
      ]
    },
    {
      "cell_type": "code",
      "source": [
        ""
      ],
      "metadata": {
        "id": "qfjApFosAhLt"
      },
      "execution_count": null,
      "outputs": []
    }
  ]
}